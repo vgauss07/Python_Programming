{
 "cells": [
  {
   "cell_type": "code",
   "execution_count": 1,
   "metadata": {},
   "outputs": [
    {
     "name": "stdout",
     "output_type": "stream",
     "text": [
      "0\n",
      "1\n",
      "2\n",
      "3\n",
      "4\n"
     ]
    }
   ],
   "source": [
    "## while loop\n",
    "\n",
    "## continute to execute as long as the condition is True\n",
    "\n",
    "# initialize count\n",
    "count = 0\n",
    "\n",
    "while count < 5:\n",
    "    print(count)\n",
    "    count += 1"
   ]
  },
  {
   "cell_type": "code",
   "execution_count": 2,
   "metadata": {},
   "outputs": [
    {
     "name": "stdout",
     "output_type": "stream",
     "text": [
      "0\n",
      "1\n",
      "2\n",
      "3\n",
      "4\n"
     ]
    }
   ],
   "source": [
    "## Loop Control Statements\n",
    "\n",
    "## break: exits the loop prematurely\n",
    "for i in range(10):\n",
    "    if i == 5:\n",
    "        break\n",
    "    print(i)"
   ]
  },
  {
   "cell_type": "code",
   "execution_count": 3,
   "metadata": {},
   "outputs": [
    {
     "name": "stdout",
     "output_type": "stream",
     "text": [
      "1\n",
      "3\n",
      "5\n",
      "7\n",
      "9\n"
     ]
    }
   ],
   "source": [
    "## continue: skips current iteration and continues with the next\n",
    "for i in range(10):\n",
    "    if i % 2 == 0:\n",
    "        continue\n",
    "    print(i)"
   ]
  },
  {
   "cell_type": "code",
   "execution_count": 4,
   "metadata": {},
   "outputs": [
    {
     "name": "stdout",
     "output_type": "stream",
     "text": [
      "0\n",
      "1\n",
      "2\n",
      "3\n",
      "4\n"
     ]
    }
   ],
   "source": [
    "## pass: it is a null operation. It does nothing\n",
    "for i in range(5):\n",
    "    if i % 2 == 0:\n",
    "        pass\n",
    "    print(i)"
   ]
  },
  {
   "cell_type": "code",
   "execution_count": 6,
   "metadata": {},
   "outputs": [
    {
     "name": "stdout",
     "output_type": "stream",
     "text": [
      "i:0 and j:0\n",
      "i:0 and j:1\n",
      "i:0 and j:2\n",
      "i:1 and j:0\n",
      "i:1 and j:1\n",
      "i:1 and j:2\n",
      "i:2 and j:0\n",
      "i:2 and j:1\n",
      "i:2 and j:2\n"
     ]
    }
   ],
   "source": [
    "## Nested Loop\n",
    "## A loop inside a loop\n",
    "for i in range(3):\n",
    "    for j in range(3):\n",
    "        print(f'i:{i} and j:{j}')\n"
   ]
  },
  {
   "cell_type": "code",
   "execution_count": 9,
   "metadata": {},
   "outputs": [
    {
     "name": "stdout",
     "output_type": "stream",
     "text": [
      "Sum of first 200 natural numbers: 20100\n"
     ]
    }
   ],
   "source": [
    "## Use while loop to calculate the sum of first N natural numbers\n",
    "\n",
    "# parameter initialization\n",
    "n = int(input(\"Enter number of terms: \"))\n",
    "sum = 0\n",
    "count = 1\n",
    "while count <= n:\n",
    "    sum += count\n",
    "    count += 1\n",
    "print(f\"Sum of first {n} natural numbers: {sum}\")"
   ]
  },
  {
   "cell_type": "code",
   "execution_count": 13,
   "metadata": {},
   "outputs": [
    {
     "name": "stdout",
     "output_type": "stream",
     "text": [
      "Sum of first 100 natural numbers: 5050\n"
     ]
    }
   ],
   "source": [
    "# Do same with a for loop\n",
    "n = int(input(\"Enter number of terms: \"))\n",
    "sum = 0\n",
    "for i in range(n+1):\n",
    "    sum += i\n",
    "print(f'Sum of first {n} natural numbers: {sum}')"
   ]
  },
  {
   "cell_type": "code",
   "execution_count": 17,
   "metadata": {},
   "outputs": [
    {
     "name": "stdout",
     "output_type": "stream",
     "text": [
      "2\n",
      "3\n",
      "5\n",
      "7\n",
      "11\n",
      "13\n",
      "17\n",
      "19\n",
      "23\n",
      "29\n",
      "31\n",
      "37\n",
      "41\n",
      "43\n",
      "47\n",
      "53\n",
      "59\n",
      "61\n",
      "67\n",
      "71\n",
      "73\n",
      "79\n",
      "83\n",
      "89\n",
      "97\n"
     ]
    }
   ],
   "source": [
    "## Example - Prime numbers between 1 and 100\n",
    "n = 100\n",
    "for i in range(1, n+1):\n",
    "    if i > 1:\n",
    "        for j in range(2, i):\n",
    "            if i % j == 0:\n",
    "                break\n",
    "        else:\n",
    "            print(i)\n"
   ]
  },
  {
   "cell_type": "code",
   "execution_count": 21,
   "metadata": {},
   "outputs": [
    {
     "name": "stdout",
     "output_type": "stream",
     "text": [
      "2\n",
      "3\n",
      "5\n",
      "7\n",
      "11\n",
      "13\n",
      "17\n",
      "19\n",
      "23\n",
      "29\n",
      "31\n",
      "37\n",
      "41\n",
      "43\n",
      "47\n",
      "53\n",
      "59\n",
      "61\n",
      "67\n",
      "71\n",
      "73\n",
      "79\n",
      "83\n",
      "89\n",
      "97\n"
     ]
    }
   ],
   "source": [
    "n = 100\n",
    "for i in range(1, n+1):\n",
    "    if i > 1:\n",
    "        for j in range(2,i):\n",
    "            if i % j == 0:\n",
    "                break\n",
    "        else:\n",
    "            print(i)"
   ]
  },
  {
   "cell_type": "code",
   "execution_count": null,
   "metadata": {},
   "outputs": [],
   "source": []
  }
 ],
 "metadata": {
  "kernelspec": {
   "display_name": "Python 3",
   "language": "python",
   "name": "python3"
  },
  "language_info": {
   "codemirror_mode": {
    "name": "ipython",
    "version": 3
   },
   "file_extension": ".py",
   "mimetype": "text/x-python",
   "name": "python",
   "nbconvert_exporter": "python",
   "pygments_lexer": "ipython3",
   "version": "3.11.0"
  }
 },
 "nbformat": 4,
 "nbformat_minor": 2
}
