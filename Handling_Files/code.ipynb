{
 "cells": [
  {
   "cell_type": "markdown",
   "metadata": {},
   "source": [
    "#### File Operations - Read and Write Files\n",
    "\n",
    "File Handling is a crucial part of programing. Python provides built-in functions and methods to read from and write to files, both text and binary. "
   ]
  },
  {
   "cell_type": "code",
   "execution_count": 2,
   "metadata": {},
   "outputs": [
    {
     "name": "stdout",
     "output_type": "stream",
     "text": [
      "Name: Jeffrey V.\n",
      "Role: Applied Mathematician: ML Engineer\n",
      "Years of Experience: 3 years.\n"
     ]
    }
   ],
   "source": [
    "## Read a Whole File\n",
    "with open('file.txt', 'r') as file:\n",
    "    content = file.read()\n",
    "    print(content)"
   ]
  },
  {
   "cell_type": "code",
   "execution_count": 3,
   "metadata": {},
   "outputs": [
    {
     "name": "stdout",
     "output_type": "stream",
     "text": [
      "Name: Jeffrey V.\n",
      "\n",
      "Role: Applied Mathematician: ML Engineer\n",
      "\n",
      "Years of Experience: 3 years.\n"
     ]
    }
   ],
   "source": [
    "## Read a file line by line\n",
    "with open('file.txt', 'r') as file:\n",
    "    for line in file:\n",
    "        print(line) "
   ]
  },
  {
   "cell_type": "code",
   "execution_count": 4,
   "metadata": {},
   "outputs": [
    {
     "name": "stdout",
     "output_type": "stream",
     "text": [
      "Name: Jeffrey V.\n",
      "Role: Applied Mathematician: ML Engineer\n",
      "Years of Experience: 3 years.\n"
     ]
    }
   ],
   "source": [
    "## To remove the spaces use the strip method\n",
    "with open('file.txt', 'r') as file:\n",
    "    for line in file:\n",
    "        print(line.strip())"
   ]
  },
  {
   "cell_type": "code",
   "execution_count": 8,
   "metadata": {},
   "outputs": [],
   "source": [
    "## Writing a File (Overwriting)\n",
    "with open('file.txt', 'w') as file:\n",
    "    file.write('Jeffrey, Founder of Ace Dynamics!\\n')\n",
    "    file.write('Successful Mathematician and ML Engineer.')"
   ]
  },
  {
   "cell_type": "code",
   "execution_count": 9,
   "metadata": {},
   "outputs": [],
   "source": [
    "## Write a file without Overwriting\n",
    "with open('file.txt', 'a') as file:\n",
    "    file.write(' Voracioous Learner')"
   ]
  },
  {
   "cell_type": "code",
   "execution_count": null,
   "metadata": {},
   "outputs": [],
   "source": []
  }
 ],
 "metadata": {
  "kernelspec": {
   "display_name": "Python 3",
   "language": "python",
   "name": "python3"
  },
  "language_info": {
   "codemirror_mode": {
    "name": "ipython",
    "version": 3
   },
   "file_extension": ".py",
   "mimetype": "text/x-python",
   "name": "python",
   "nbconvert_exporter": "python",
   "pygments_lexer": "ipython3",
   "version": "3.11.0"
  }
 },
 "nbformat": 4,
 "nbformat_minor": 2
}
