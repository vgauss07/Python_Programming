{
 "cells": [
  {
   "cell_type": "markdown",
   "metadata": {},
   "source": [
    "# Module 5: Modules and Packages Assignments\n",
    "## Lesson 5.1: Importing Modules\n",
    "### Assignment 1: Importing and Using Modules\n",
    "\n",
    "Import the `math` module and use it to calculate the square root of 25 and the sine of 90 degrees.\n",
    "\n",
    "### Assignment 2: Aliasing Modules\n",
    "\n",
    "Import the `datetime` module with an alias and use it to print the current date and time.\n",
    "\n",
    "### Assignment 3: Importing Specific Functions\n",
    "\n",
    "Import the `randint` function from the `random` module and use it to generate a random integer between 1 and 100.\n",
    "\n",
    "### Assignment 4: Importing Multiple Functions\n",
    "\n",
    "Import the `sqrt` and `pow` functions from the `math` module and use them to calculate the square root of 16 and 2 raised to the power of 3.\n",
    "\n",
    "### Assignment 5: Handling Import Errors\n",
    "\n",
    "Write code that attempts to import a non-existent module and gracefully handles the import error by printing an error message.\n",
    "\n",
    "## Lesson 5.2: Standard Library Overview\n",
    "### Assignment 6: Working with the `os` Module\n",
    "\n",
    "Use the `os` module to create a new directory, list the contents of the current directory, and remove the newly created directory.\n",
    "\n",
    "### Assignment 7: Working with the `sys` Module\n",
    "\n",
    "Use the `sys` module to print the Python version currently in use and the command-line arguments passed to the script.\n",
    "\n",
    "### Assignment 8: Working with the `math` Module\n",
    "\n",
    "Use the `math` module to calculate the greatest common divisor (GCD) of two numbers and the factorial of a number.\n",
    "\n",
    "### Assignment 9: Working with the `datetime` Module\n",
    "\n",
    "Use the `datetime` module to print the current date, calculate the date 100 days from today, and determine the day of the week for a given date.\n",
    "\n",
    "### Assignment 10: Working with the `random` Module\n",
    "\n",
    "Use the `random` module to generate a list of 5 random numbers between 1 and 50 and shuffle the elements of a list.\n",
    "\n",
    "## Lesson 5.3: Creating and Using Packages\n",
    "### Assignment 11: Creating a Simple Package\n",
    "\n",
    "Create a package named `mypackage` with two modules: `module1` and `module2`. `module1` should contain a function that adds two numbers, and `module2` should contain a function that multiplies two numbers. Write code to use these functions.\n",
    "\n",
    "### Assignment 12: Using `__init__.py`\n",
    "\n",
    "Modify the `mypackage` package to include an `__init__.py` file that imports the functions from `module1` and `module2`. Write code to use these functions.\n",
    "\n",
    "### Assignment 13: Importing from a Package\n",
    "\n",
    "Write code to import and use the functions from `mypackage` without explicitly importing `module1` and `module2`.\n",
    "\n",
    "### Assignment 14: Relative Imports\n",
    "\n",
    "Create a subpackage named `subpackage` within `mypackage` and move `module2` into `subpackage`. Modify the import statements in `__init__.py` to use relative imports. Write code to use the functions from both modules.\n",
    "\n",
    "### Assignment 15: Handling Package Import Errors\n",
    "\n",
    "Write code that attempts to import a non-existent function from `mypackage` and gracefully handles the import error by printing an error message."
   ]
  },
  {
   "cell_type": "code",
   "execution_count": 2,
   "metadata": {},
   "outputs": [
    {
     "name": "stdout",
     "output_type": "stream",
     "text": [
      "5.0 0.8939966636005579\n"
     ]
    }
   ],
   "source": [
    "### Assignment 1: Importing and Using Modules\n",
    "\n",
    "### Import the `math` module and use it to calculate the square root of 25 and the sine of 90 degrees.\n",
    "\n",
    "import math\n",
    "\n",
    "root_ = math.sqrt(25)\n",
    "trig_sin = math.sin(90)\n",
    "print(root_, trig_sin)"
   ]
  },
  {
   "cell_type": "code",
   "execution_count": 4,
   "id": "eb80ace8",
   "metadata": {},
   "outputs": [
    {
     "name": "stdout",
     "output_type": "stream",
     "text": [
      "2024-12-12 18:08:15.316333\n"
     ]
    }
   ],
   "source": [
    "### Assignment 2: Aliasing Modules\n",
    "\n",
    "### Import the `datetime` module with an alias and use it to print the current date and time.\n",
    "\n",
    "from datetime import datetime as dt\n",
    "\n",
    "now = dt.now()\n",
    "print(now)"
   ]
  },
  {
   "cell_type": "code",
   "execution_count": 5,
   "id": "b82438a8",
   "metadata": {},
   "outputs": [
    {
     "name": "stdout",
     "output_type": "stream",
     "text": [
      "90\n"
     ]
    }
   ],
   "source": [
    "### Assignment 3: Importing Specific Functions\n",
    "\n",
    "### Import the `randint` function from the `random` module and use it to generate a random integer between 1 and 100.\n",
    "from random import randint\n",
    "\n",
    "numbers_ = randint(1,100)\n",
    "print(numbers_)"
   ]
  },
  {
   "cell_type": "code",
   "execution_count": 8,
   "id": "f9001564",
   "metadata": {},
   "outputs": [
    {
     "name": "stdout",
     "output_type": "stream",
     "text": [
      "4.0 8.0\n"
     ]
    }
   ],
   "source": [
    "### Assignment 4: Importing Multiple Functions\n",
    "\n",
    "### Import the `sqrt` and `pow` functions from the `math` module and use them to calculate the square root of 16 and 2 raised to the power of 3.\n",
    "\n",
    "square_root = math.sqrt(16)\n",
    "power_of_2 = math.pow(2,3)\n",
    "print(square_root, power_of_2)"
   ]
  },
  {
   "cell_type": "code",
   "execution_count": 10,
   "id": "5cb4f5a5",
   "metadata": {},
   "outputs": [
    {
     "name": "stdout",
     "output_type": "stream",
     "text": [
      "No module named 'genius'\n"
     ]
    }
   ],
   "source": [
    "### Assignment 5: Handling Import Errors\n",
    "\n",
    "### Write code that attempts to import a non-existent module and gracefully handles the import error by printing an error message.\n",
    "\n",
    "try:\n",
    "    import genius\n",
    "except ImportError as ex:\n",
    "    print(ex)"
   ]
  },
  {
   "cell_type": "code",
   "execution_count": 13,
   "id": "1dda4840",
   "metadata": {},
   "outputs": [
    {
     "name": "stdout",
     "output_type": "stream",
     "text": [
      "/Users/rev.dr.sylviablessings/Python_Programming/packages_test\n"
     ]
    }
   ],
   "source": [
    "### Assignment 6: Working with the `os` Module\n",
    "\n",
    "### Use the `os` module to create a new directory, list the contents of the current directory, and remove the newly created directory.\n",
    "import os\n",
    "current_dir = os.getcwd()\n",
    "print(current_dir)"
   ]
  },
  {
   "cell_type": "code",
   "execution_count": 7,
   "id": "c0eef819",
   "metadata": {},
   "outputs": [
    {
     "name": "stdout",
     "output_type": "stream",
     "text": [
      "Tuesday\n"
     ]
    }
   ],
   "source": [
    "### Assignment 9: Working with the `datetime` Module\n",
    "\n",
    "### Use the `datetime` module to print the current date, calculate the date 100 days from today, and determine the day of the week for a given date.\n",
    "\n",
    "from datetime import datetime, timedelta\n",
    "\n",
    "today_ = datetime.now()\n",
    "interval = today_ - timedelta(days=100)\n",
    "print(interval.strftime(\"%A\"))"
   ]
  },
  {
   "cell_type": "code",
   "execution_count": 9,
   "id": "9648faad",
   "metadata": {},
   "outputs": [
    {
     "data": {
      "text/plain": [
       "[82, 87, 45, 71, 6]"
      ]
     },
     "execution_count": 9,
     "metadata": {},
     "output_type": "execute_result"
    }
   ],
   "source": [
    "### Assignment 10: Working with the `random` Module\n",
    "\n",
    "### Use the `random` module to generate a list of 5 random numbers between 1 and 50 and shuffle the elements of a list.\n",
    "import random\n",
    "\n",
    "rand_num = [(random.randint(1, 100)) for i in range(5)]\n",
    "rand_num"
   ]
  },
  {
   "cell_type": "code",
   "execution_count": 10,
   "id": "042576d6",
   "metadata": {},
   "outputs": [
    {
     "name": "stdout",
     "output_type": "stream",
     "text": [
      "25 7\n"
     ]
    }
   ],
   "source": [
    "#Create a package named `mypackage` with two modules: `module1` and `module2`. `module1` should \n",
    "#contain a function that adds two numbers, and `module2` \n",
    "#should contain a function that multiplies two numbers. \n",
    "# Write code to use these functions.\n",
    "\n",
    "from new_package import exponent, addition\n",
    "expo = exponent(5, 2)\n",
    "addi = addition(5,2)\n",
    "\n",
    "print(expo, addi)"
   ]
  },
  {
   "cell_type": "code",
   "execution_count": 11,
   "id": "e7dbdfdd",
   "metadata": {},
   "outputs": [],
   "source": [
    "import  new_package"
   ]
  },
  {
   "cell_type": "code",
   "execution_count": 12,
   "id": "ca24e836",
   "metadata": {},
   "outputs": [
    {
     "name": "stdout",
     "output_type": "stream",
     "text": [
      "9\n"
     ]
    }
   ],
   "source": [
    "exponential = new_package.exponent(3,2)\n",
    "print(exponential)"
   ]
  },
  {
   "cell_type": "code",
   "execution_count": 16,
   "id": "3d67b21d",
   "metadata": {},
   "outputs": [],
   "source": [
    "from subpackages.package import division"
   ]
  },
  {
   "cell_type": "code",
   "execution_count": 17,
   "id": "ce34f490",
   "metadata": {},
   "outputs": [
    {
     "name": "stdout",
     "output_type": "stream",
     "text": [
      "division by zero\n",
      "None\n"
     ]
    }
   ],
   "source": [
    "result = division(5, 0)\n",
    "print(result)"
   ]
  },
  {
   "cell_type": "code",
   "execution_count": 18,
   "id": "9251ca5b",
   "metadata": {},
   "outputs": [
    {
     "name": "stdout",
     "output_type": "stream",
     "text": [
      "package not found\n"
     ]
    }
   ],
   "source": [
    "### Assignment 15: Handling Package Import Errors\n",
    "\n",
    "### Write code that attempts to import a non-existent function from `mypackage` and gracefully handles the import error by printing an error message.\n",
    "\n",
    "try:\n",
    "    import package.genius\n",
    "except ModuleNotFoundError:\n",
    "    print(\"package not found\")"
   ]
  },
  {
   "cell_type": "code",
   "execution_count": null,
   "id": "c092e93c",
   "metadata": {},
   "outputs": [],
   "source": []
  }
 ],
 "metadata": {
  "kernelspec": {
   "display_name": "Python 3",
   "language": "python",
   "name": "python3"
  },
  "language_info": {
   "codemirror_mode": {
    "name": "ipython",
    "version": 3
   },
   "file_extension": ".py",
   "mimetype": "text/x-python",
   "name": "python",
   "nbconvert_exporter": "python",
   "pygments_lexer": "ipython3",
   "version": "3.11.0"
  }
 },
 "nbformat": 4,
 "nbformat_minor": 5
}
