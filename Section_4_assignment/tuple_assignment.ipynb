{
 "cells": [
  {
   "cell_type": "markdown",
   "id": "6cade624",
   "metadata": {},
   "source": [
    "# Module 3: Data Structures Assignments\n",
    "## Lesson 3.2: Tuples\n",
    "### Assignment 1: Creating and Accessing Tuples\n",
    "\n",
    "Create a tuple with the first 10 positive integers. Print the tuple.\n",
    "\n",
    "### Assignment 2: Accessing Tuple Elements\n",
    "\n",
    "Print the first, middle, and last elements of the tuple created in Assignment 1.\n",
    "\n",
    "### Assignment 3: Tuple Slicing\n",
    "\n",
    "Print the first three elements, the last three elements, and the elements from index 2 to 5 of the tuple created in Assignment 1.\n",
    "\n",
    "### Assignment 4: Nested Tuples\n",
    "\n",
    "Create a nested tuple representing a 3x3 matrix and print the matrix. Access and print the element at the second row and third column.\n",
    "\n",
    "### Assignment 5: Tuple Concatenation\n",
    "\n",
    "Concatenate two tuples: (1, 2, 3) and (4, 5, 6). Print the resulting tuple.\n",
    "\n",
    "### Assignment 6: Tuple Methods\n",
    "\n",
    "Create a tuple with duplicate elements and count the occurrences of an element. Find the index of the first occurrence of an element in the tuple.\n",
    "\n",
    "### Assignment 7: Unpacking Tuples\n",
    "\n",
    "Create a tuple with 5 elements and unpack it into 5 variables. Print the variables.\n",
    "\n",
    "### Assignment 8: Tuple Conversion\n",
    "\n",
    "Convert a list of the first 5 positive integers to a tuple. Print the tuple.\n",
    "\n",
    "### Assignment 9: Tuple of Tuples\n",
    "\n",
    "Create a tuple containing 3 tuples, each with 3 elements. Print the tuple of tuples.\n",
    "\n",
    "### Assignment 10: Tuple and List\n",
    "\n",
    "Create a tuple with the first 5 positive integers. Convert it to a list, append the number 6, and convert it back to a tuple. Print the resulting tuple.\n",
    "\n",
    "### Assignment 11: Tuple and String\n",
    "\n",
    "Create a tuple with the characters of a string. Join the tuple elements into a single string. Print the string.\n",
    "\n",
    "### Assignment 12: Tuple and Dictionary\n",
    "\n",
    "Create a dictionary with tuple keys and integer values. Print the dictionary.\n",
    "\n",
    "### Assignment 13: Nested Tuple Iteration\n",
    "\n",
    "Create a nested tuple and iterate over the elements, printing each element.\n",
    "\n",
    "### Assignment 14: Tuple and Set\n",
    "\n",
    "Create a tuple with duplicate elements. Convert it to a set to remove duplicates and print the resulting set.\n",
    "\n",
    "### Assignment 15: Tuple Functions\n",
    "\n",
    "Write functions that take a tuple and return the minimum, maximum, and sum of the elements. Print the results for a sample tuple."
   ]
  },
  {
   "cell_type": "code",
   "execution_count": 2,
   "metadata": {},
   "outputs": [
    {
     "name": "stdout",
     "output_type": "stream",
     "text": [
      "(0, 1, 2, 3, 4, 5, 6, 7, 8, 9, 10)\n"
     ]
    }
   ],
   "source": [
    "### Assignment 1: Creating and Accessing Tuples\n",
    "\n",
    "## Create a tuple with the first 10 positive integers. Print the tuple.\n",
    "\n",
    "new_tuple = tuple(range(11))\n",
    "print(new_tuple)"
   ]
  },
  {
   "cell_type": "code",
   "execution_count": 3,
   "id": "ec837867",
   "metadata": {},
   "outputs": [
    {
     "name": "stdout",
     "output_type": "stream",
     "text": [
      "0\n",
      "[1, 2, 3, 4, 5, 6, 7, 8, 9]\n",
      "10\n"
     ]
    }
   ],
   "source": [
    "### Assignment 2: Accessing Tuple Elements\n",
    "\n",
    "### Print the first, middle, and last elements of the tuple created in Assignment 1.\n",
    "first, *middle, last = new_tuple\n",
    "print(first)\n",
    "print(middle)\n",
    "print(last)"
   ]
  },
  {
   "cell_type": "code",
   "execution_count": 7,
   "id": "f76dc69c",
   "metadata": {},
   "outputs": [
    {
     "name": "stdout",
     "output_type": "stream",
     "text": [
      "(0, 1, 2)\n",
      "(8, 9, 10)\n",
      "(2, 3, 4, 5)\n"
     ]
    }
   ],
   "source": [
    "### Assignment 3: Tuple Slicing\n",
    "\n",
    "### Print the first three elements, the last three elements, and the elements from index 2 to 5 of the tuple created in Assignment 1.\n",
    "print(new_tuple[0:3]) # first three elements\n",
    "print(new_tuple[-3:]) # last three elements\n",
    "print(new_tuple[2:6]) # index 2 to 5 "
   ]
  },
  {
   "cell_type": "code",
   "execution_count": 10,
   "id": "73a5cb8e",
   "metadata": {},
   "outputs": [
    {
     "name": "stdout",
     "output_type": "stream",
     "text": [
      "6\n"
     ]
    }
   ],
   "source": [
    "### Assignment 4: Nested Tuples\n",
    "\n",
    "### Create a nested tuple representing a 3x3 matrix and print the matrix. Access and print the element at the second row and third column.\n",
    "\n",
    "matrix_tuple = (\n",
    "                [1, 2, 3],\n",
    "                [4, 5, 6],\n",
    "                [7, 8, 9])\n",
    "print(matrix_tuple[1][2]) # second row and third column"
   ]
  },
  {
   "cell_type": "code",
   "execution_count": 11,
   "id": "45dade89",
   "metadata": {},
   "outputs": [
    {
     "data": {
      "text/plain": [
       "(1, 2, 3, 4, 5, 6)"
      ]
     },
     "execution_count": 11,
     "metadata": {},
     "output_type": "execute_result"
    }
   ],
   "source": [
    "### Assignment 5: Tuple Concatenation\n",
    "\n",
    "### Concatenate two tuples: (1, 2, 3) and (4, 5, 6). Print the resulting tuple.\n",
    "tuple_1 = (1, 2, 3)\n",
    "tuple_2 = (4, 5, 6)\n",
    "concat_tuple = tuple_1 + tuple_2\n",
    "concat_tuple"
   ]
  },
  {
   "cell_type": "code",
   "execution_count": 12,
   "id": "df7e90db",
   "metadata": {},
   "outputs": [
    {
     "name": "stdout",
     "output_type": "stream",
     "text": [
      "5\n",
      "2\n"
     ]
    }
   ],
   "source": [
    "### Assignment 6: Tuple Methods\n",
    "\n",
    "### Create a tuple with duplicate elements and count the occurrences of an element. Find the index of the first occurrence of an element in the tuple.\n",
    "\n",
    "tuple_example = tuple([1, 2, 2, 3, 4, 5])\n",
    "\n",
    "print(tuple_example.index(5))\n",
    "print(tuple_example.count(2))"
   ]
  },
  {
   "cell_type": "code",
   "execution_count": 14,
   "id": "8446f92a",
   "metadata": {},
   "outputs": [
    {
     "name": "stdout",
     "output_type": "stream",
     "text": [
      "1\n"
     ]
    }
   ],
   "source": [
    "### Assignment 7: Unpacking Tuples\n",
    "\n",
    "### Create a tuple with 5 elements and unpack it into 5 variables. Print the variables.\n",
    "quin_tuple = (1, 2, 3, 4, 5)\n",
    "a,b,c,d,e = quin_tuple\n",
    "print(a)"
   ]
  },
  {
   "cell_type": "code",
   "execution_count": 17,
   "id": "4af9d892",
   "metadata": {},
   "outputs": [
    {
     "name": "stdout",
     "output_type": "stream",
     "text": [
      "<class 'tuple'>\n"
     ]
    }
   ],
   "source": [
    "### Assignment 8: Tuple Conversion\n",
    "\n",
    "### Convert a list of the first 5 positive integers to a tuple. Print the tuple.\n",
    "\n",
    "tup_ = list(range(1,6))\n",
    "tup_ = tuple(tup_)\n",
    "print(type(tup_))\n"
   ]
  },
  {
   "cell_type": "code",
   "execution_count": 18,
   "id": "793fd6e4",
   "metadata": {},
   "outputs": [
    {
     "name": "stdout",
     "output_type": "stream",
     "text": [
      "((1, 2, 3), (4, 5, 6), (7, 8, 9))\n"
     ]
    }
   ],
   "source": [
    "### Assignment 9: Tuple of Tuples\n",
    "\n",
    "### Create a tuple containing 3 tuples, each with 3 elements. Print the tuple of tuples.\n",
    "tup_of_tuples = (\n",
    "    (1, 2, 3),\n",
    "    (4, 5, 6),\n",
    "    (7, 8, 9)\n",
    ")\n",
    "print(tup_of_tuples)"
   ]
  },
  {
   "cell_type": "code",
   "execution_count": 24,
   "id": "2e4f87c7",
   "metadata": {},
   "outputs": [
    {
     "name": "stdout",
     "output_type": "stream",
     "text": [
      "(1, 2, 3, 4, 5, 6)\n"
     ]
    }
   ],
   "source": [
    "### Assignment 10: Tuple and List\n",
    "\n",
    "###  Create a tuple with the first 5 positive integers. Convert it to a list, append the number 6, and convert it back to a tuple. Print the resulting tuple.\n",
    "tup_value = tuple(range(1, 6))\n",
    "list_value = list(tup_value)\n",
    "list_value.append(6)\n",
    "new_value = tuple(list_value)\n",
    "print(new_value)"
   ]
  },
  {
   "cell_type": "code",
   "execution_count": 25,
   "id": "d9cee5db",
   "metadata": {},
   "outputs": [
    {
     "name": "stdout",
     "output_type": "stream",
     "text": [
      "able\n"
     ]
    }
   ],
   "source": [
    "### Assignment 11: Tuple and String\n",
    "\n",
    "### Create a tuple with the characters of a string. Join the tuple elements into a single string. Print the string.\n",
    "string_tuple = ('a', 'b', 'l', 'e')\n",
    "str_value = \"\".join(string_tuple)\n",
    "print(str_value)"
   ]
  },
  {
   "cell_type": "code",
   "execution_count": 26,
   "id": "8e157da0",
   "metadata": {},
   "outputs": [
    {
     "name": "stdout",
     "output_type": "stream",
     "text": [
      "age:32\n",
      "IQ:200\n"
     ]
    }
   ],
   "source": [
    "### Assignment 12: Tuple and Dictionary\n",
    "\n",
    "### Create a dictionary with tuple keys and integer values. Print the dictionary.\n",
    "dict_of_tuples = {\n",
    "    ('age') : 32,\n",
    "    ('IQ') : 200\n",
    "}\n",
    "for key, values in dict_of_tuples.items():\n",
    "    print(f\"{key}:{values}\")"
   ]
  },
  {
   "cell_type": "code",
   "execution_count": 29,
   "id": "3f294987",
   "metadata": {},
   "outputs": [
    {
     "name": "stdout",
     "output_type": "stream",
     "text": [
      "1 2 3 4 5 a b c d e "
     ]
    }
   ],
   "source": [
    "### Assignment 13: Nested Tuple Iteration\n",
    "\n",
    "### Create a nested tuple and iterate over the elements, printing each element.\n",
    "\n",
    "nested_tuple = (\n",
    "    (1, 2, 3, 4, 5),\n",
    "    ('a', 'b', 'c', 'd', 'e')\n",
    "    )\n",
    "\n",
    "for val in  nested_tuple:\n",
    "    for items in val:\n",
    "        print(items, end=\" \")"
   ]
  },
  {
   "cell_type": "code",
   "execution_count": 30,
   "id": "0fcb1bea",
   "metadata": {},
   "outputs": [
    {
     "name": "stdout",
     "output_type": "stream",
     "text": [
      "{1, 2, 3, 4, 5, 6, 7, 8, 9}\n"
     ]
    }
   ],
   "source": [
    "### Assignment 14: Tuple and Set\n",
    "\n",
    "### Create a tuple with duplicate elements. Convert it to a set to remove duplicates and print the resulting set.\n",
    "\n",
    "tuple_values = (1, 2, 3, 4, 5, 6, 7, 8, 6, 3, 5, 7, 9)\n",
    "unique_values = set(tuple_values)\n",
    "print(unique_values)"
   ]
  },
  {
   "cell_type": "code",
   "execution_count": null,
   "id": "a982f8fa",
   "metadata": {},
   "outputs": [
    {
     "name": "stdout",
     "output_type": "stream",
     "text": [
      "The maximum, minimum and total oof the tuple values: (9, 1, 66)\n"
     ]
    }
   ],
   "source": [
    "### Assignment 15: Tuple Functions\n",
    "\n",
    "### Write functions that take a tuple and return the minimum, maximum, and sum of the elements. Print the results for a sample tuple.\n",
    "\n",
    "def tuple_calulcation(tup: tuple) -> int:\n",
    "    maximum = max(tup)\n",
    "    minimum = min(tup)\n",
    "    total = sum(tup)\n",
    "    return maximum, minimum, total\n",
    "\n",
    "result = tuple_calulcation(tuple_values)\n",
    "\n",
    "print(f'The maximum, minimum and total of the tuple values: {result}')"
   ]
  },
  {
   "cell_type": "code",
   "execution_count": null,
   "id": "f0e012ea",
   "metadata": {},
   "outputs": [],
   "source": []
  }
 ],
 "metadata": {
  "kernelspec": {
   "display_name": "Python 3",
   "language": "python",
   "name": "python3"
  },
  "language_info": {
   "codemirror_mode": {
    "name": "ipython",
    "version": 3
   },
   "file_extension": ".py",
   "mimetype": "text/x-python",
   "name": "python",
   "nbconvert_exporter": "python",
   "pygments_lexer": "ipython3",
   "version": "3.11.0"
  }
 },
 "nbformat": 4,
 "nbformat_minor": 5
}
