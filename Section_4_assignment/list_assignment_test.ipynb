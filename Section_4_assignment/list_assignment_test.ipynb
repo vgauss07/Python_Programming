{
 "cells": [
  {
   "cell_type": "markdown",
   "metadata": {},
   "source": []
  },
  {
   "cell_type": "code",
   "execution_count": 1,
   "metadata": {},
   "outputs": [
    {
     "name": "stdout",
     "output_type": "stream",
     "text": [
      "[1, 2, 3, 4, 5, 6, 7, 8, 9, 10, 11, 12, 13, 14, 15, 16, 17, 18, 19, 20]\n"
     ]
    }
   ],
   "source": [
    "### Assignment 1: Creating and Accessing Lists\n",
    "\n",
    "## Create a list of the first 20 positive integers. Print the list.\n",
    "lst = list(range(1, 21))\n",
    "print(lst)"
   ]
  },
  {
   "cell_type": "code",
   "execution_count": null,
   "metadata": {},
   "outputs": [
    {
     "name": "stdout",
     "output_type": "stream",
     "text": [
      "1\n",
      "2 3 4 5 6 7 8 9 10 11 12 13 14 15 16 17 18 19\n",
      "20\n"
     ]
    }
   ],
   "source": [
    "### Assignment 2: Accessing List Elements\n",
    "\n",
    "##  Print the first, middle, and last elements of the list created in Assignment 1.\n",
    "first, *middle, last = lst\n",
    "print(first)\n",
    "print(*middle) # or len \\\\ 2\n",
    "print(last)\n"
   ]
  },
  {
   "cell_type": "code",
   "execution_count": 9,
   "metadata": {},
   "outputs": [
    {
     "name": "stdout",
     "output_type": "stream",
     "text": [
      "[1, 2, 3, 4, 5]\n",
      "[6, 7, 8, 9, 10, 11, 12, 13, 14, 15]\n"
     ]
    }
   ],
   "source": [
    "\n",
    "### Assignment 3: List Slicing\n",
    "\n",
    "## Print the first five elements, the last five elements, and the elements from index 5 to 15 of the list created in Assignment 1.\n",
    "\n",
    "\"\"\"First 5 elements\"\"\"\n",
    "print(lst[:5])\n",
    "\n",
    "print(lst[5:15])"
   ]
  },
  {
   "cell_type": "code",
   "execution_count": 12,
   "metadata": {},
   "outputs": [
    {
     "data": {
      "text/plain": [
       "[1, 4, 9, 16, 25, 36, 49, 64, 81, 100]"
      ]
     },
     "execution_count": 12,
     "metadata": {},
     "output_type": "execute_result"
    }
   ],
   "source": [
    "### Assignment 4: List Comprehensions\n",
    "\n",
    "## Create a new list containing the squares of the first 10 positive integers using a list comprehension. Print the new list.\n",
    "\n",
    "def square():\n",
    "    return [x**2 for x in range(1,11)]\n",
    "\n",
    "square()"
   ]
  },
  {
   "cell_type": "code",
   "execution_count": 13,
   "metadata": {},
   "outputs": [
    {
     "data": {
      "text/plain": [
       "[2, 4, 6, 8, 10, 12, 14, 16, 18, 20]"
      ]
     },
     "execution_count": 13,
     "metadata": {},
     "output_type": "execute_result"
    }
   ],
   "source": [
    "### Assignment 5: Filtering Lists\n",
    "\n",
    "## Create a new list containing only the even numbers from the list created in Assignment 1 using a list comprehension. Print the new list.\n",
    "\n",
    "def even_number(lst:list) -> list :\n",
    "    return  [x for x in lst if x%2 ==0]\n",
    "\n",
    "even_number(lst)"
   ]
  },
  {
   "cell_type": "code",
   "execution_count": 19,
   "metadata": {},
   "outputs": [
    {
     "name": "stdout",
     "output_type": "stream",
     "text": [
      "[1, 1, 2, 2, 3, 3, 4, 4, 5, 5, 6, 7, 8, 9]\n",
      "[9, 8, 7, 6, 5, 5, 4, 4, 3, 3, 2, 2, 1, 1]\n",
      "{1, 2, 3, 4, 5, 6, 7, 8, 9}\n"
     ]
    }
   ],
   "source": [
    "### Assignment 6: List Methods\n",
    "\n",
    "## Create a list of random numbers and sort it in ascending and descending order. Remove the duplicates from the list and print the modified list.\n",
    "\n",
    "random_numbers = [1, 2, 3, 4, 5, 5, 6 ,7 , 8, 9, 4, 3, 2, 1]\n",
    "\n",
    "#  IN ASCENDING ORDER\n",
    "asc = sorted(random_numbers)\n",
    "print(asc)\n",
    "# IN DESCENDING ORDER\n",
    "desc = sorted(random_numbers, reverse=True)\n",
    "print(desc)\n",
    "#  UNIQUE VALUES\n",
    "unique_num = set(random_numbers)\n",
    "print(unique_num)"
   ]
  },
  {
   "cell_type": "code",
   "execution_count": 20,
   "metadata": {},
   "outputs": [
    {
     "name": "stdout",
     "output_type": "stream",
     "text": [
      "[1, 2, 3]\n",
      "[4, 5, 6]\n",
      "[7, 8, 9]\n",
      "second row and third column : 6\n"
     ]
    }
   ],
   "source": [
    "### Assignment 7: Nested Lists\n",
    "\n",
    "##  Create a nested list representing a 3x3 matrix and print the matrix. Access and print the element at the second row and third column.\n",
    "\n",
    "matrix = [\n",
    "    [1, 2, 3],\n",
    "    [4, 5, 6],\n",
    "    [7, 8, 9]\n",
    "]\n",
    "\n",
    "for row in matrix:\n",
    "    print(row)\n",
    "\n",
    "print(f'second row and third column : {matrix[1][2]}')\n",
    "    \n"
   ]
  },
  {
   "cell_type": "code",
   "execution_count": 25,
   "metadata": {},
   "outputs": [
    {
     "name": "stdout",
     "output_type": "stream",
     "text": [
      "{'name': 'Jeffrey', 'score': 100}\n",
      "{'name': 'Gauss', 'score': 95}\n"
     ]
    }
   ],
   "source": [
    "### Assignment 8: List of Dictionaries\n",
    "\n",
    "## Create a list of dictionaries where each dictionary represents a student with keys 'name' and 'score'. Sort the list of dictionaries by the 'score' in descending order and print the sorted list.\n",
    "\n",
    "new_dict =[\n",
    "    {'name': 'Jeffrey', 'score' :100},\n",
    "    {'name': 'Gauss', 'score': 95}\n",
    "]\n",
    "sort_scores = sorted(new_dict, key=lambda x: x['score'], reverse=True)\n",
    "for student in sort_scores:\n",
    "    print(student)"
   ]
  },
  {
   "cell_type": "code",
   "execution_count": 27,
   "metadata": {},
   "outputs": [
    {
     "name": "stdout",
     "output_type": "stream",
     "text": [
      "Original Matrix: \n",
      "[1, 2, 3]\n",
      "[4, 5, 6]\n",
      "[7, 8, 9]\n",
      "Transposed Matrix: \n",
      "[1, 4, 7]\n",
      "[2, 5, 8]\n",
      "[3, 6, 9]\n"
     ]
    }
   ],
   "source": [
    "### Assignment 9: Matrix Transposition\n",
    "\n",
    "### Write a function that takes a 3x3 matrix (nested list) as input and returns its transpose. Print the original and transposed matrices.\n",
    "\n",
    "matrix = [\n",
    "    [1, 2, 3],\n",
    "    [4, 5, 6],\n",
    "    [7, 8, 9]\n",
    "]\n",
    "\n",
    "def matrix_transpose(matrix):\n",
    "    transposed = [[matrix[j][i] for j in range(len(matrix))] for i in range(len(matrix[0]))]\n",
    "    return transposed\n",
    "\n",
    "transpose = matrix_transpose(matrix)\n",
    "\n",
    "print(\"Original Matrix: \")\n",
    "for row in matrix:\n",
    "    print(row)\n",
    "\n",
    "print(\"Transposed Matrix: \")\n",
    "for row in transpose:\n",
    "    print(row)"
   ]
  },
  {
   "cell_type": "code",
   "execution_count": 29,
   "metadata": {},
   "outputs": [
    {
     "name": "stdout",
     "output_type": "stream",
     "text": [
      "Original List: \n",
      "[[1, 2, 3], [4, 5, 6], [7, 8, 9]]\n",
      "Transformed List: \n",
      "[1, 2, 3, 4, 5, 6, 7, 8, 9]\n"
     ]
    }
   ],
   "source": [
    "### Assignment 10: Flattening a Nested List\n",
    "\n",
    "### Write a function that takes a nested list and flattens it into a single list. Print the original and flattened lists.\n",
    "\n",
    "nested_listed = [\n",
    "    [1, 2, 3],\n",
    "    [4, 5, 6],\n",
    "    [7, 8, 9]\n",
    "]\n",
    "def flatten_list(lst):\n",
    "    flat_list = [index for value in lst for index in value]\n",
    "    return flat_list\n",
    "\n",
    "flattened_list = flatten_list(nested_listed)\n",
    "\n",
    "print(\"Original List: \")\n",
    "print(nested_listed)\n",
    "\n",
    "print(\"Transformed List: \")\n",
    "print(flattened_list)"
   ]
  },
  {
   "cell_type": "code",
   "execution_count": 33,
   "metadata": {},
   "outputs": [
    {
     "name": "stdout",
     "output_type": "stream",
     "text": [
      "Original List: \n",
      "[0, 1, 2, 3, 4, 5, 6, 7, 8, 9, 10]\n",
      "[0, 1, 3, 5, 7, 99, 8, 9, 10]\n"
     ]
    }
   ],
   "source": [
    "### Assignment 11: List Manipulation\n",
    "\n",
    "### Create a list of the first 10 positive integers. Remove the elements at indices 2, 4, and 6, and insert the element '99' at index 5. Print the modified list.\n",
    "\n",
    "num = list(range(11))\n",
    "print(\"Original List: \")\n",
    "print(num)\n",
    "\n",
    "# remove 2, 4, and 6\n",
    "del num[6]\n",
    "del num[4]\n",
    "del num[2]\n",
    "\n",
    "num.insert(5, 99)\n",
    "\n",
    "print(num)"
   ]
  },
  {
   "cell_type": "code",
   "execution_count": 36,
   "metadata": {},
   "outputs": [
    {
     "name": "stdout",
     "output_type": "stream",
     "text": [
      "[(1, 5), (2, 6), (3, 7), (4, 8)]\n"
     ]
    }
   ],
   "source": [
    "### Assignment 12: List Zipping\n",
    "\n",
    "### Create two lists of the same length. Use the `zip` function to combine these lists into a list of tuples and print the result.\n",
    "\n",
    "lst_1 = [1, 2, 3, 4]\n",
    "lst_2 = [5, 6, 7, 8]\n",
    "zipped = list(zip(lst_1, lst_2))\n",
    "print(zipped)"
   ]
  },
  {
   "cell_type": "code",
   "execution_count": 37,
   "metadata": {},
   "outputs": [
    {
     "name": "stdout",
     "output_type": "stream",
     "text": [
      "Original List: \n",
      "[1, 2, 3, 4, 5]\n",
      "Reversed List \n",
      "[5, 4, 3, 2, 1]\n"
     ]
    }
   ],
   "source": [
    "## Assignment 13: \n",
    "## Write a function that takes a list and returns a new list with the elements in reverse order. Print the original and reversed lists.\n",
    "def list_reversal(lst):\n",
    "    return lst[::-1]\n",
    "\n",
    "lst = [1, 2, 3, 4, 5]\n",
    "new_lst = list_reversal(lst)\n",
    "\n",
    "print(\"Original List: \")\n",
    "print(lst)\n",
    "\n",
    "print(\"Reversed List \")\n",
    "print(new_lst)"
   ]
  },
  {
   "cell_type": "code",
   "execution_count": 38,
   "metadata": {},
   "outputs": [
    {
     "name": "stdout",
     "output_type": "stream",
     "text": [
      "Original List: [1, 2, 3, 4, 5] \n",
      "Rotated List: [4, 5, 1, 2, 3]\n"
     ]
    }
   ],
   "source": [
    "### Assignment 14: List Rotation\n",
    "\n",
    "### Write a function that rotates a list by n positions. Print the original and rotated lists.\n",
    "\n",
    "lst = [1, 2, 3, 4, 5]\n",
    "def rotate_list(lst, n):\n",
    "    return lst[n:] + lst[:n]\n",
    "\n",
    "rot_lst = rotate_list(lst, 3)\n",
    "\n",
    "print(f\"Original List: {lst} \")\n",
    "print(f'Rotated List: {rot_lst}')"
   ]
  },
  {
   "cell_type": "code",
   "execution_count": 39,
   "metadata": {},
   "outputs": [
    {
     "name": "stdout",
     "output_type": "stream",
     "text": [
      "[3, 5, 7]\n"
     ]
    }
   ],
   "source": [
    "### Assignment 15: List Intersection\n",
    "\n",
    "### Write a function that takes two lists and returns a new list containing only the elements that are present in both lists. Print the intersected list.\n",
    "\n",
    "lst1 = [1, 2, 3, 4, 5, 6, 7]\n",
    "lst2 = [3, 5, 7, 9]\n",
    "\n",
    "def list_intersection(lst1:list, lst2:list) -> list:\n",
    "    return [x for x in lst1 if x in lst2]\n",
    "\n",
    "intersect_list = list_intersection(lst1, lst2)\n",
    "print(intersect_list)"
   ]
  },
  {
   "cell_type": "code",
   "execution_count": null,
   "metadata": {},
   "outputs": [],
   "source": []
  }
 ],
 "metadata": {
  "kernelspec": {
   "display_name": "Python 3",
   "language": "python",
   "name": "python3"
  },
  "language_info": {
   "codemirror_mode": {
    "name": "ipython",
    "version": 3
   },
   "file_extension": ".py",
   "mimetype": "text/x-python",
   "name": "python",
   "nbconvert_exporter": "python",
   "pygments_lexer": "ipython3",
   "version": "3.11.0"
  }
 },
 "nbformat": 4,
 "nbformat_minor": 2
}
