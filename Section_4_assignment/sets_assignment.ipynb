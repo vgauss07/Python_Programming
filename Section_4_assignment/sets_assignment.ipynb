{
 "cells": [
  {
   "cell_type": "markdown",
   "metadata": {},
   "source": [
    "# Module 3: Data Structures Assignments\n",
    "## Lesson 3.3: Sets\n",
    "### Assignment 1: Creating and Accessing Sets\n",
    "\n",
    "Create a set with the first 10 positive integers. Print the set.\n",
    "\n",
    "### Assignment 2: Adding and Removing Elements\n",
    "\n",
    "Add the number 11 to the set created in Assignment 1. Then remove the number 1 from the set. Print the modified set.\n",
    "\n",
    "### Assignment 3: Set Operations\n",
    "\n",
    "Create two sets: one with the first 5 positive integers and another with the first 5 even integers. Perform and print the results of union, intersection, difference, and symmetric difference operations on these sets.\n",
    "\n",
    "### Assignment 4: Set Comprehensions\n",
    "\n",
    "Create a new set containing the squares of the first 10 positive integers using a set comprehension. Print the new set.\n",
    "\n",
    "### Assignment 5: Filtering Sets\n",
    "\n",
    "Create a new set containing only the even numbers from the set created in Assignment 1 using a set comprehension. Print the new set.\n",
    "\n",
    "### Assignment 6: Set Methods\n",
    "\n",
    "Create a set with duplicate elements and remove the duplicates using set methods. Print the modified set.\n",
    "\n",
    "### Assignment 7: Subsets and Supersets\n",
    "\n",
    "Create two sets: one with the first 5 positive integers and another with the first 3 positive integers. Check if the second set is a subset of the first set and if the first set is a superset of the second set. Print the results.\n",
    "\n",
    "### Assignment 8: Frozenset\n",
    "\n",
    "Create a frozenset with the first 5 positive integers. Print the frozenset.\n",
    "\n",
    "### Assignment 9: Set and List Conversion\n",
    "\n",
    "Create a set with the first 5 positive integers. Convert it to a list, append the number 6, and convert it back to a set. Print the resulting set.\n",
    "\n",
    "### Assignment 10: Set and Dictionary\n",
    "\n",
    "Create a dictionary with set keys and integer values. Print the dictionary.\n",
    "\n",
    "### Assignment 11: Iterating Over Sets\n",
    "\n",
    "Create a set and iterate over the elements, printing each element.\n",
    "\n",
    "### Assignment 12: Removing Elements from Sets\n",
    "\n",
    "Create a set and remove elements from it until it is empty. Print the set after each removal.\n",
    "\n",
    "### Assignment 13: Set Symmetric Difference Update\n",
    "\n",
    "Create two sets and update the first set with the symmetric difference of the two sets. Print the modified first set.\n",
    "\n",
    "### Assignment 14: Set Membership Testing\n",
    "\n",
    "Create a set and test if certain elements are present in the set. Print the results.\n",
    "\n",
    "### Assignment 15: Set of Tuples\n",
    "\n",
    "Create a set containing tuples, where each tuple contains two elements. Print the set."
   ]
  },
  {
   "cell_type": "code",
   "execution_count": 1,
   "metadata": {},
   "outputs": [
    {
     "name": "stdout",
     "output_type": "stream",
     "text": [
      "{1, 2, 3, 4, 5, 6, 7, 8, 9, 10}\n"
     ]
    }
   ],
   "source": [
    "### Assignment 1: Creating and Accessing Sets\n",
    "\n",
    "###  Create a set with the first 10 positive integers. Print the set.\n",
    "\n",
    "val = set(range(1, 11))\n",
    "print(val)"
   ]
  },
  {
   "cell_type": "code",
   "execution_count": 24,
   "id": "f140965d",
   "metadata": {},
   "outputs": [
    {
     "data": {
      "text/plain": [
       "{2, 3, 4, 5, 6, 7, 8, 9, 10, 11}"
      ]
     },
     "execution_count": 24,
     "metadata": {},
     "output_type": "execute_result"
    }
   ],
   "source": [
    "### Assignment 2: Adding and Removing Elements\n",
    "\n",
    "### Add the number 11 to the set created in Assignment 1. Then remove the number 1 from the set. Print the modified set.\n",
    "integer_set = set(range(1,11))\n",
    "integer_set.add(11)\n",
    "integer_set.remove(1)\n",
    "\n",
    "integer_set"
   ]
  },
  {
   "cell_type": "code",
   "execution_count": 26,
   "id": "4f06aa6f",
   "metadata": {},
   "outputs": [
    {
     "name": "stdout",
     "output_type": "stream",
     "text": [
      "{0, 1, 2, 3, 4} {4, 5, 6, 7, 8}\n"
     ]
    }
   ],
   "source": [
    "### Assignment 3: Set Operations\n",
    "\n",
    "###  Create two sets: one with the first 5 positive integers and another with the first 5 even integers.\n",
    "### Perform and print the results of union, intersection, difference, and symmetric difference operations on these sets.\n",
    "\n",
    "set_1 = set(range(0, 5))\n",
    "set_2 = set(range(4, 9))\n",
    "print(set_1, set_2)"
   ]
  },
  {
   "cell_type": "code",
   "execution_count": 5,
   "id": "96f41da6",
   "metadata": {},
   "outputs": [
    {
     "data": {
      "text/plain": [
       "{0, 1, 2, 3, 4, 5, 6, 7, 8, 9}"
      ]
     },
     "execution_count": 5,
     "metadata": {},
     "output_type": "execute_result"
    }
   ],
   "source": [
    "# union\n",
    "uni_set = set_1.union(set_2)\n",
    "uni_set"
   ]
  },
  {
   "cell_type": "code",
   "execution_count": 6,
   "id": "bab33518",
   "metadata": {},
   "outputs": [
    {
     "data": {
      "text/plain": [
       "{4, 5, 6}"
      ]
     },
     "execution_count": 6,
     "metadata": {},
     "output_type": "execute_result"
    }
   ],
   "source": [
    "## intersection\n",
    "int_set = set_1.intersection(set_2)\n",
    "int_set"
   ]
  },
  {
   "cell_type": "code",
   "execution_count": 8,
   "id": "4cbd835e",
   "metadata": {},
   "outputs": [
    {
     "data": {
      "text/plain": [
       "{0, 1, 2, 3}"
      ]
     },
     "execution_count": 8,
     "metadata": {},
     "output_type": "execute_result"
    }
   ],
   "source": [
    "# difference\n",
    "dif_set = set_1.difference(set_2)\n",
    "dif_set"
   ]
  },
  {
   "cell_type": "code",
   "execution_count": 10,
   "id": "9dc4b2d9",
   "metadata": {},
   "outputs": [
    {
     "data": {
      "text/plain": [
       "{0, 1, 2, 3, 7, 8, 9}"
      ]
     },
     "execution_count": 10,
     "metadata": {},
     "output_type": "execute_result"
    }
   ],
   "source": [
    "## symmetric difference\n",
    "sym_dif = set_1.symmetric_difference(set_2)\n",
    "sym_dif"
   ]
  },
  {
   "cell_type": "code",
   "execution_count": 13,
   "id": "f69d0456",
   "metadata": {},
   "outputs": [
    {
     "name": "stdout",
     "output_type": "stream",
     "text": [
      "{64, 1, 4, 36, 100, 9, 16, 49, 81, 25}\n"
     ]
    }
   ],
   "source": [
    "### Assignment 4: Set Comprehensions\n",
    "\n",
    "###  Create a new set containing the squares of the first 10 positive integers using a set comprehension. Print the new set.\n",
    "\n",
    "square_num = set(x**2 for x in range(1, 11))\n",
    "print(square_num)"
   ]
  },
  {
   "cell_type": "code",
   "execution_count": 14,
   "id": "7e7792d7",
   "metadata": {},
   "outputs": [
    {
     "data": {
      "text/plain": [
       "{2, 4, 6, 8, 10}"
      ]
     },
     "execution_count": 14,
     "metadata": {},
     "output_type": "execute_result"
    }
   ],
   "source": [
    "### Assignment 5: Filtering Sets\n",
    "\n",
    "### Create a new set containing only the even numbers from the set created in Assignment 1 using a set comprehension. Print the new set.\n",
    "\n",
    "even_num  = set(x for x in val if x % 2 == 0)\n",
    "even_num"
   ]
  },
  {
   "cell_type": "code",
   "execution_count": 16,
   "id": "36b681b1",
   "metadata": {},
   "outputs": [
    {
     "name": "stdout",
     "output_type": "stream",
     "text": [
      "Original List: {1, 2, 3, 4, 5, 6, 7, 8}\n",
      "Fixed Set: {1, 2, 3, 4, 5, 6, 7, 8}\n"
     ]
    }
   ],
   "source": [
    "### Assignment 6: Set Methods\n",
    "\n",
    "### Create a set with duplicate elements and remove the duplicates using set methods. Print the modified set.\n",
    "\n",
    "initial_set = {1, 2, 2, 3, 4, 5, 6, 7, 8}\n",
    "\n",
    "print(f\"Original List: {initial_set}\")\n",
    "fixed_set = set(list(initial_set))\n",
    "\n",
    "print(f'Fixed Set: {fixed_set}')"
   ]
  },
  {
   "cell_type": "code",
   "execution_count": 3,
   "id": "666e4d04",
   "metadata": {},
   "outputs": [
    {
     "data": {
      "text/plain": [
       "False"
      ]
     },
     "execution_count": 3,
     "metadata": {},
     "output_type": "execute_result"
    }
   ],
   "source": [
    "### Assignment 7: Subsets and Supersets\n",
    "\n",
    "## Create two sets: one with the first 5 positive integers and another with the first 3 positive integers. \n",
    "# Check if the second set is a subset of the first set and if the first set is a superset of the second set. Print the results.\n",
    "set1 = {1, 2, 3, 4, 5, 6, 7, 8, 9}\n",
    "set2  = {1, 4, 6, 9, 16}\n",
    "\n",
    "set1.issubset(set2)\n",
    "set1.issuperset(set2)"
   ]
  },
  {
   "cell_type": "code",
   "execution_count": 4,
   "id": "d3daa7ac",
   "metadata": {},
   "outputs": [
    {
     "data": {
      "text/plain": [
       "frozenset({1, 2, 3, 4, 5})"
      ]
     },
     "execution_count": 4,
     "metadata": {},
     "output_type": "execute_result"
    }
   ],
   "source": [
    "### Assignment 8: Frozenset\n",
    "\n",
    "###  Create a frozenset with the first 5 positive integers. Print the frozenset.\n",
    "fs1 = frozenset([1, 2, 3, 4, 5])\n",
    "fs1"
   ]
  },
  {
   "cell_type": "code",
   "execution_count": 9,
   "id": "14558e65",
   "metadata": {},
   "outputs": [],
   "source": [
    "### Assignment 9: Set and List Conversion\n",
    "\n",
    "###  Create a set with the first 5 positive integers. Convert it to a list, append the number 6, and convert it back to a set. Print the resulting set.\n",
    "set1 = set(range(1,6))\n",
    "list1 = list(set1)\n",
    "list1.append(6)\n"
   ]
  },
  {
   "cell_type": "code",
   "execution_count": 10,
   "id": "6ed0f2d2",
   "metadata": {},
   "outputs": [],
   "source": [
    "new_set = set(list1)"
   ]
  },
  {
   "cell_type": "code",
   "execution_count": 11,
   "id": "9da6d327",
   "metadata": {},
   "outputs": [
    {
     "data": {
      "text/plain": [
       "{1, 2, 3, 4, 5, 6}"
      ]
     },
     "execution_count": 11,
     "metadata": {},
     "output_type": "execute_result"
    }
   ],
   "source": [
    "new_set"
   ]
  },
  {
   "cell_type": "code",
   "execution_count": 12,
   "id": "2f5242cd",
   "metadata": {},
   "outputs": [
    {
     "name": "stdout",
     "output_type": "stream",
     "text": [
      "{frozenset({'a', 'b'}): 5, frozenset({'x', 'y'}): 10}\n"
     ]
    }
   ],
   "source": [
    "### Assignment 10: Set and Dictionary\n",
    "\n",
    "### Create a dictionary with set keys and integer values. Print the dictionary.\n",
    "dict1 = {\n",
    "    ## set keys\n",
    "    frozenset({'a', 'b'}):5,\n",
    "    frozenset({'x', 'y'}) : 10\n",
    "}\n",
    "print(dict1)"
   ]
  },
  {
   "cell_type": "code",
   "execution_count": 27,
   "id": "6ac85796",
   "metadata": {},
   "outputs": [
    {
     "name": "stdout",
     "output_type": "stream",
     "text": [
      "1\n",
      "4\n",
      "9\n",
      "16\n",
      "25\n",
      "36\n",
      "49\n"
     ]
    }
   ],
   "source": [
    "### Assignment 11: Iterating Over Sets\n",
    "\n",
    "### Create a set and iterate over the elements, printing each element.\n",
    "new_set = {1, 2, 3, 4, 5, 6, 7}\n",
    "for val in  new_set:\n",
    "    print(val**2)"
   ]
  },
  {
   "cell_type": "code",
   "execution_count": 15,
   "id": "2fe3b008",
   "metadata": {},
   "outputs": [
    {
     "name": "stdout",
     "output_type": "stream",
     "text": [
      "set()\n"
     ]
    }
   ],
   "source": [
    "### Assignment 12: Removing Elements from Sets\n",
    "\n",
    "### Create a set and remove elements from it until it is empty. Print the set after each removal.\n",
    "new_set = {1, 2, 3, 4, 5, 6, 7}\n",
    "while len(new_set) > 0:\n",
    "    new_set.pop()\n",
    "\n",
    "print(new_set)"
   ]
  },
  {
   "cell_type": "code",
   "execution_count": 19,
   "id": "e843e741",
   "metadata": {},
   "outputs": [
    {
     "name": "stdout",
     "output_type": "stream",
     "text": [
      "{1, 2, 3, 4, 5, 6}\n"
     ]
    }
   ],
   "source": [
    "### Assignment 13: Set Symmetric Difference Update\n",
    "\n",
    "### Create two sets and update the first set with the symmetric difference of the two sets. Print the modified first set.\n",
    "\n",
    "set_1 = {1, 2, 3}\n",
    "set_2 = {4, 5, 6}\n",
    "\n",
    "fresh_set = {}\n",
    "\n",
    "fresh_set = set_2.symmetric_difference(set_1)\n",
    "for val in fresh_set:\n",
    "    set_1.add(val)\n",
    "print(set_1)"
   ]
  },
  {
   "cell_type": "code",
   "execution_count": 20,
   "id": "6de17442",
   "metadata": {},
   "outputs": [
    {
     "name": "stdout",
     "output_type": "stream",
     "text": [
      "False\n",
      "True\n"
     ]
    }
   ],
   "source": [
    "### Assignment 14: Set Membership Testing\n",
    "\n",
    "### Create a set and test if certain elements are present in the set. Print the results.\n",
    "set_1 = {1, 2, 3, 4, 5}\n",
    "print(10 in set_1)\n",
    "print(5 in  set_1)"
   ]
  },
  {
   "cell_type": "code",
   "execution_count": 21,
   "id": "0ed40a13",
   "metadata": {},
   "outputs": [
    {
     "name": "stdout",
     "output_type": "stream",
     "text": [
      "{(1, 2), (3, 4)}\n"
     ]
    }
   ],
   "source": [
    "\n",
    "### Assignment 15: Set of Tuples\n",
    "\n",
    "### Create a set containing tuples, where each tuple contains two elements. Print the set.\n",
    "\n",
    "set_of_tuples = {(1, 2), (3, 4)}\n",
    "print(set_of_tuples)"
   ]
  },
  {
   "cell_type": "code",
   "execution_count": null,
   "id": "2ac302d7",
   "metadata": {},
   "outputs": [],
   "source": []
  }
 ],
 "metadata": {
  "kernelspec": {
   "display_name": "Python 3",
   "language": "python",
   "name": "python3"
  },
  "language_info": {
   "codemirror_mode": {
    "name": "ipython",
    "version": 3
   },
   "file_extension": ".py",
   "mimetype": "text/x-python",
   "name": "python",
   "nbconvert_exporter": "python",
   "pygments_lexer": "ipython3",
   "version": "3.11.0"
  }
 },
 "nbformat": 4,
 "nbformat_minor": 5
}
