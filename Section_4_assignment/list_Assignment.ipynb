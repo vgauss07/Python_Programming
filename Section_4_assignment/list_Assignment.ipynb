{
 "cells": [
  {
   "cell_type": "markdown",
   "metadata": {},
   "source": [
    "# Module 3: Data Structures Assignments\n",
    "## Lesson 3.1: Lists\n",
    "### Assignment 1: Creating and Accessing Lists\n",
    "\n",
    "Create a list of the first 20 positive integers. Print the list.\n",
    "\n",
    "### Assignment 2: Accessing List Elements\n",
    "\n",
    "Print the first, middle, and last elements of the list created in Assignment 1.\n",
    "\n",
    "### Assignment 3: List Slicing\n",
    "\n",
    "Print the first five elements, the last five elements, and the elements from index 5 to 15 of the list created in Assignment 1.\n",
    "\n",
    "### Assignment 4: List Comprehensions\n",
    "\n",
    "Create a new list containing the squares of the first 10 positive integers using a list comprehension. Print the new list.\n",
    "\n",
    "### Assignment 5: Filtering Lists\n",
    "\n",
    "Create a new list containing only the even numbers from the list created in Assignment 1 using a list comprehension. Print the new list.\n",
    "\n",
    "### Assignment 6: List Methods\n",
    "\n",
    "Create a list of random numbers and sort it in ascending and descending order. Remove the duplicates from the list and print the modified list.\n",
    "\n",
    "### Assignment 7: Nested Lists\n",
    "\n",
    "Create a nested list representing a 3x3 matrix and print the matrix. Access and print the element at the second row and third column.\n",
    "\n",
    "### Assignment 8: List of Dictionaries\n",
    "\n",
    "Create a list of dictionaries where each dictionary represents a student with keys 'name' and 'score'. Sort the list of dictionaries by the 'score' in descending order and print the sorted list.\n",
    "\n",
    "### Assignment 9: Matrix Transposition\n",
    "\n",
    "Write a function that takes a 3x3 matrix (nested list) as input and returns its transpose. Print the original and transposed matrices.\n",
    "\n",
    "### Assignment 10: Flattening a Nested List\n",
    "\n",
    "Write a function that takes a nested list and flattens it into a single list. Print the original and flattened lists.\n",
    "\n",
    "### Assignment 11: List Manipulation\n",
    "\n",
    "Create a list of the first 10 positive integers. Remove the elements at indices 2, 4, and 6, and insert the element '99' at index 5. Print the modified list.\n",
    "\n",
    "### Assignment 12: List Zipping\n",
    "\n",
    "Create two lists of the same length. Use the `zip` function to combine these lists into a list of tuples and print the result.\n",
    "\n",
    "### Assignment 13: List Reversal\n",
    "\n",
    "Write a function that takes a list and returns a new list with the elements in reverse order. Print the original and reversed lists.\n",
    "\n",
    "### Assignment 14: List Rotation\n",
    "\n",
    "Write a function that rotates a list by n positions. Print the original and rotated lists.\n",
    "\n",
    "### Assignment 15: List Intersection\n",
    "\n",
    "Write a function that takes two lists and returns a new list containing only the elements that are present in both lists. Print the intersected list."
   ]
  },
  {
   "cell_type": "code",
   "execution_count": 1,
   "metadata": {},
   "outputs": [
    {
     "name": "stdout",
     "output_type": "stream",
     "text": [
      "[2, 4, 6, 8, 10]\n"
     ]
    }
   ],
   "source": [
    "## Assignment  15: List Intersection\n",
    "# Write a function that takes two lists and returns a new list containing only the elements that are present in both lists. Print the intersected list.\n",
    "\n",
    "lst1 = [1, 2, 3, 4, 5, 5, 6, 7, 8, 9, 10]\n",
    "lst2 = [2, 4, 6, 8, 10]\n",
    "new_lst = []\n",
    "def common_elements(lst1:list, lst2:list) -> list:\n",
    "    for i in lst1:\n",
    "        if i in lst2:\n",
    "            new_lst.append(i)\n",
    "        else:\n",
    "            continue\n",
    "    print(new_lst)\n",
    "\n",
    "common_elements(lst1, lst2)"
   ]
  },
  {
   "cell_type": "code",
   "execution_count": 2,
   "id": "0cb0513f",
   "metadata": {},
   "outputs": [
    {
     "data": {
      "text/plain": [
       "[5, 7, 1, 2, 3, 4, 5]"
      ]
     },
     "execution_count": 2,
     "metadata": {},
     "output_type": "execute_result"
    }
   ],
   "source": [
    "## Assignment 14 \n",
    "# Write a function that rotates a list by n positions. Print the original and rotated lists.\n",
    "lst = [1, 2, 3, 4, 5, 5, 7]\n",
    "def rotate_list(lst:list, k:int) -> list:\n",
    "    k = k % len(lst)\n",
    "    return lst[-k:] + lst[:-k]\n",
    "rotate_list(lst, 2)"
   ]
  },
  {
   "cell_type": "code",
   "execution_count": 3,
   "id": "5233e254",
   "metadata": {},
   "outputs": [
    {
     "name": "stdout",
     "output_type": "stream",
     "text": [
      "[1, 2, 3, 4, 5]\n",
      "[5, 4, 3, 2, 1]\n"
     ]
    }
   ],
   "source": [
    "### Assignment 13: List Reversal\n",
    "\n",
    "# Write a function that takes a list and returns a new list with the elements in reverse order. Print the original and reversed lists.\n",
    "lst = [1, 2, 3, 4, 5]\n",
    "def reverse_list(lst:list) -> list:\n",
    "    return lst[::-1]\n",
    "print(lst)\n",
    "print(reverse_list(lst))"
   ]
  },
  {
   "cell_type": "code",
   "execution_count": 7,
   "id": "c72e94b8",
   "metadata": {},
   "outputs": [
    {
     "name": "stdout",
     "output_type": "stream",
     "text": [
      "[(0, 1), (2, 3), (4, 5), (6, 7), (8, 9), (10, 11), (12, 13), (14, 15), (16, 17), (18, 19)]\n"
     ]
    }
   ],
   "source": [
    "### Assignment 12: List Zipping\n",
    "\n",
    "# Create two lists of the same length. Use the `zip` function to combine these lists into a list of tuples and print the result.\n",
    "\n",
    "lst1 = []\n",
    "lst2 = []\n",
    "\n",
    "for i in range(20):\n",
    "    if i % 2 == 0:\n",
    "        lst1.append(i)\n",
    "    else:\n",
    "        lst2.append(i)\n",
    "\n",
    "result = zip(lst1, lst2)\n",
    "print(list(result))"
   ]
  },
  {
   "cell_type": "code",
   "execution_count": 8,
   "id": "8e752626",
   "metadata": {},
   "outputs": [],
   "source": [
    "### Assignment 11: List Manipulation\n",
    "\n",
    "## Create a list of the first 10 positive integers. Remove the elements at indices 2, 4, and 6, and insert the element '99' at index 5. Print the modified list.\n",
    "lst = [1, 2, 3, 4, 5, 6, 7, 8, 9, 10]\n",
    "lst.remove(lst[2])\n"
   ]
  },
  {
   "cell_type": "code",
   "execution_count": 11,
   "id": "1e1b3d8b",
   "metadata": {},
   "outputs": [],
   "source": [
    "lst.remove(lst[4])\n",
    "lst.remove(lst[6])\n",
    "lst.insert(5, 99)"
   ]
  },
  {
   "cell_type": "code",
   "execution_count": 12,
   "id": "daa9ad7e",
   "metadata": {},
   "outputs": [
    {
     "data": {
      "text/plain": [
       "[1, 2, 4, 5, 7, 99, 8, 10]"
      ]
     },
     "execution_count": 12,
     "metadata": {},
     "output_type": "execute_result"
    }
   ],
   "source": [
    "lst"
   ]
  },
  {
   "cell_type": "code",
   "execution_count": 49,
   "id": "642ccc4f",
   "metadata": {},
   "outputs": [
    {
     "name": "stdout",
     "output_type": "stream",
     "text": [
      "1 4 9 1 4 8 1 4 7 1 4 6 1 4 5 1 4 4 \n",
      "1 5 9 1 5 8 1 5 7 1 5 6 1 5 5 1 5 4 \n",
      "1 6 9 1 6 8 1 6 7 1 6 6 1 6 5 1 6 4 \n",
      "1 7 9 1 7 8 1 7 7 1 7 6 1 7 5 1 7 4 \n",
      "1 8 9 1 8 8 1 8 7 1 8 6 1 8 5 1 8 4 \n",
      "1 9 9 1 9 8 1 9 7 1 9 6 1 9 5 1 9 4 \n",
      "2 4 9 2 4 8 2 4 7 2 4 6 2 4 5 2 4 4 \n",
      "2 5 9 2 5 8 2 5 7 2 5 6 2 5 5 2 5 4 \n",
      "2 6 9 2 6 8 2 6 7 2 6 6 2 6 5 2 6 4 \n",
      "2 7 9 2 7 8 2 7 7 2 7 6 2 7 5 2 7 4 \n",
      "2 8 9 2 8 8 2 8 7 2 8 6 2 8 5 2 8 4 \n",
      "2 9 9 2 9 8 2 9 7 2 9 6 2 9 5 2 9 4 \n",
      "3 4 9 3 4 8 3 4 7 3 4 6 3 4 5 3 4 4 \n",
      "3 5 9 3 5 8 3 5 7 3 5 6 3 5 5 3 5 4 \n",
      "3 6 9 3 6 8 3 6 7 3 6 6 3 6 5 3 6 4 \n",
      "3 7 9 3 7 8 3 7 7 3 7 6 3 7 5 3 7 4 \n",
      "3 8 9 3 8 8 3 8 7 3 8 6 3 8 5 3 8 4 \n",
      "3 9 9 3 9 8 3 9 7 3 9 6 3 9 5 3 9 4 \n",
      "4 4 9 4 4 8 4 4 7 4 4 6 4 4 5 4 4 4 \n",
      "4 5 9 4 5 8 4 5 7 4 5 6 4 5 5 4 5 4 \n",
      "4 6 9 4 6 8 4 6 7 4 6 6 4 6 5 4 6 4 \n",
      "4 7 9 4 7 8 4 7 7 4 7 6 4 7 5 4 7 4 \n",
      "4 8 9 4 8 8 4 8 7 4 8 6 4 8 5 4 8 4 \n",
      "4 9 9 4 9 8 4 9 7 4 9 6 4 9 5 4 9 4 \n",
      "5 4 9 5 4 8 5 4 7 5 4 6 5 4 5 5 4 4 \n",
      "5 5 9 5 5 8 5 5 7 5 5 6 5 5 5 5 5 4 \n",
      "5 6 9 5 6 8 5 6 7 5 6 6 5 6 5 5 6 4 \n",
      "5 7 9 5 7 8 5 7 7 5 7 6 5 7 5 5 7 4 \n",
      "5 8 9 5 8 8 5 8 7 5 8 6 5 8 5 5 8 4 \n",
      "5 9 9 5 9 8 5 9 7 5 9 6 5 9 5 5 9 4 \n",
      "6 4 9 6 4 8 6 4 7 6 4 6 6 4 5 6 4 4 \n",
      "6 5 9 6 5 8 6 5 7 6 5 6 6 5 5 6 5 4 \n",
      "6 6 9 6 6 8 6 6 7 6 6 6 6 6 5 6 6 4 \n",
      "6 7 9 6 7 8 6 7 7 6 7 6 6 7 5 6 7 4 \n",
      "6 8 9 6 8 8 6 8 7 6 8 6 6 8 5 6 8 4 \n",
      "6 9 9 6 9 8 6 9 7 6 9 6 6 9 5 6 9 4 \n"
     ]
    }
   ],
   "source": [
    "### Assignment 7: Nested Lists\n",
    "\n",
    "# Create a nested list representing a 3x3 matrix and print the matrix. Access and print the element at the second row and third column.\n",
    "\n",
    "\n"
   ]
  },
  {
   "cell_type": "code",
   "execution_count": null,
   "id": "ac74d0c5",
   "metadata": {},
   "outputs": [],
   "source": [
    "### Assignment 10: Flattening a Nested List\n",
    "\n",
    "# Write a function that takes a nested list and flattens it into a single list. Print the original and flattened lists."
   ]
  },
  {
   "cell_type": "code",
   "execution_count": 14,
   "id": "3f41b888",
   "metadata": {},
   "outputs": [
    {
     "name": "stdout",
     "output_type": "stream",
     "text": [
      "[1, 2, 3, 4, 5, 6, 7, 8, 9, 10, 11, 12, 13, 14, 15, 16, 17, 18, 19, 20]\n"
     ]
    }
   ],
   "source": [
    "### Assignment 1: Creating and Accessing Lists\n",
    "\n",
    "# Create a list of the first 20 positive integers. Print the list.\n",
    "\n",
    "lst = []\n",
    "for i in range(1, 21):\n",
    "    lst.append(i)\n",
    "print(lst)"
   ]
  },
  {
   "cell_type": "code",
   "execution_count": 16,
   "id": "9e42570b",
   "metadata": {},
   "outputs": [
    {
     "name": "stdout",
     "output_type": "stream",
     "text": [
      "1\n",
      "[2, 3, 4, 5, 6, 7, 8, 9, 10, 11, 12, 13, 14, 15, 16, 17, 18, 19]\n",
      "20\n"
     ]
    }
   ],
   "source": [
    "### Assignment 2: Accessing List Elements\n",
    "\n",
    "# Print the first, middle, and last elements of the list created in Assignment 1.\n",
    "lst = []\n",
    "for i in range(1, 21):\n",
    "    lst.append(i)\n",
    "\n",
    "first, *middle, last = lst\n",
    "print(first)\n",
    "print(middle)\n",
    "print(last)"
   ]
  },
  {
   "cell_type": "code",
   "execution_count": 19,
   "id": "7e252f99",
   "metadata": {},
   "outputs": [
    {
     "data": {
      "text/plain": [
       "[6, 7, 8, 9, 10, 11, 12, 13, 14, 15]"
      ]
     },
     "execution_count": 19,
     "metadata": {},
     "output_type": "execute_result"
    }
   ],
   "source": [
    "### Assignment 3: List Slicing\n",
    "\n",
    "# Print the first five elements, the last five elements, and the elements from index 5 to 15 of the list created in Assignment 1.\n",
    "lst[0:5]\n",
    "lst[5:15]"
   ]
  },
  {
   "cell_type": "code",
   "execution_count": 17,
   "id": "06d1c61f",
   "metadata": {},
   "outputs": [
    {
     "data": {
      "text/plain": [
       "[0, 1, 4, 9, 16, 25, 36, 49, 64, 81]"
      ]
     },
     "execution_count": 17,
     "metadata": {},
     "output_type": "execute_result"
    }
   ],
   "source": [
    "\n",
    "### Assignment 4: List Comprehensions\n",
    "\n",
    "# Create a new list containing the squares of the first 10 positive integers using a list comprehension. Print the new list.\n",
    "square_values = [x**2 for x in range(10)]\n",
    "square_values"
   ]
  },
  {
   "cell_type": "code",
   "execution_count": 21,
   "id": "c737e940",
   "metadata": {},
   "outputs": [
    {
     "data": {
      "text/plain": [
       "[2, 4, 6, 8, 10, 12, 14, 16, 18, 20]"
      ]
     },
     "execution_count": 21,
     "metadata": {},
     "output_type": "execute_result"
    }
   ],
   "source": [
    "### Assignment 5: Filtering Lists\n",
    "\n",
    "# Create a new list containing only the even numbers from the list created in Assignment 1 using a list comprehension. Print the new list.\n",
    "even_lst = [x for x in lst if x % 2 == 0]\n",
    "even_lst"
   ]
  },
  {
   "cell_type": "code",
   "execution_count": 30,
   "id": "ce98b54c",
   "metadata": {},
   "outputs": [],
   "source": [
    "### Assignment 6: List Methods\n",
    "\n",
    "# Create a list of random numbers and sort it in ascending and descending order. Remove the duplicates from the list and print the modified list.\n",
    "\n",
    "random_lst = [8, 2, 4, 5, 7, 9, 2, 3, 2, 6, 7]"
   ]
  },
  {
   "cell_type": "code",
   "execution_count": 38,
   "id": "4463e17d",
   "metadata": {},
   "outputs": [
    {
     "data": {
      "text/plain": [
       "[2, 2, 2, 3, 4, 5, 6, 7, 7, 8, 9]"
      ]
     },
     "execution_count": 38,
     "metadata": {},
     "output_type": "execute_result"
    }
   ],
   "source": [
    "random_lst.sort()\n",
    "random_lst"
   ]
  },
  {
   "cell_type": "code",
   "execution_count": 40,
   "id": "ebdea676",
   "metadata": {},
   "outputs": [
    {
     "data": {
      "text/plain": [
       "[9, 8, 7, 7, 6, 5, 4, 3, 2, 2, 2]"
      ]
     },
     "execution_count": 40,
     "metadata": {},
     "output_type": "execute_result"
    }
   ],
   "source": [
    "random_lst.sort(reverse=True)\n",
    "random_lst"
   ]
  },
  {
   "cell_type": "code",
   "execution_count": 42,
   "id": "38c68a8e",
   "metadata": {},
   "outputs": [
    {
     "name": "stdout",
     "output_type": "stream",
     "text": [
      "[2, 3, 4, 5, 6, 7, 8, 9]\n"
     ]
    }
   ],
   "source": [
    "# remove duplicates\n",
    "new_lst_unique = set(random_lst)\n",
    "print(list(new_lst_unique))"
   ]
  },
  {
   "cell_type": "code",
   "execution_count": null,
   "id": "8631ce33",
   "metadata": {},
   "outputs": [],
   "source": []
  }
 ],
 "metadata": {
  "kernelspec": {
   "display_name": "Python 3",
   "language": "python",
   "name": "python3"
  },
  "language_info": {
   "codemirror_mode": {
    "name": "ipython",
    "version": 3
   },
   "file_extension": ".py",
   "mimetype": "text/x-python",
   "name": "python",
   "nbconvert_exporter": "python",
   "pygments_lexer": "ipython3",
   "version": "3.11.0"
  }
 },
 "nbformat": 4,
 "nbformat_minor": 5
}
