{
 "cells": [
  {
   "cell_type": "markdown",
   "metadata": {},
   "source": [
    "#### File Operation - Read and Write Files"
   ]
  },
  {
   "cell_type": "code",
   "execution_count": 1,
   "metadata": {},
   "outputs": [
    {
     "name": "stdout",
     "output_type": "stream",
     "text": [
      "Bible\n",
      "Math\n",
      "Coding\n",
      "Pianoo\n"
     ]
    }
   ],
   "source": [
    "##-----------------Read a Whole File---------------------##\n",
    "with open('example.txt', 'r') as file:\n",
    "    content = file.read()\n",
    "    print(content)"
   ]
  },
  {
   "cell_type": "code",
   "execution_count": 2,
   "metadata": {},
   "outputs": [
    {
     "name": "stdout",
     "output_type": "stream",
     "text": [
      "Bible\n",
      "\n",
      "Math\n",
      "\n",
      "Coding\n",
      "\n",
      "Pianoo\n"
     ]
    }
   ],
   "source": [
    "##-------------------Read a file line by line--------------##\n",
    "with open('example.txt', 'r') as file:\n",
    "    for line in file:\n",
    "        print(line)"
   ]
  },
  {
   "cell_type": "code",
   "execution_count": 3,
   "metadata": {},
   "outputs": [
    {
     "name": "stdout",
     "output_type": "stream",
     "text": [
      "Bible\n",
      "Math\n",
      "Coding\n",
      "Pianoo\n"
     ]
    }
   ],
   "source": [
    "##--------------To remove new line character-----------------##\n",
    "with open('example.txt', 'r') as file:\n",
    "    for line in file:\n",
    "        print(line.strip())\n"
   ]
  },
  {
   "cell_type": "code",
   "execution_count": null,
   "metadata": {},
   "outputs": [],
   "source": [
    "##-------------Writing a file (Overwriting)----------------------------##\n",
    "with open('example.txt', 'w') as file:\n",
    "    file.write('Training!\\n')\n",
    "    file.write('This is a new line')"
   ]
  },
  {
   "cell_type": "code",
   "execution_count": 6,
   "metadata": {},
   "outputs": [],
   "source": [
    "##------------Writing a file (without overwriting)-------------------##\n",
    "with open('example.txt', 'a') as file:\n",
    "    file.write(\"\\nAppend operation taking place!\\n\")"
   ]
  },
  {
   "cell_type": "code",
   "execution_count": 7,
   "metadata": {},
   "outputs": [],
   "source": [
    "##------------Writing a list of lines to a file--------------------##\n",
    "lines = ['First line \\n', 'Second line \\n', 'Third line \\n']\n",
    "with open('example.txt', 'a') as file:\n",
    "    file.writelines(lines)"
   ]
  },
  {
   "cell_type": "code",
   "execution_count": 8,
   "metadata": {},
   "outputs": [],
   "source": [
    "### Binary Files\n",
    "##-----------Writing to a binary file----------------------------##\n",
    "data = b'\\x00\\x01\\x02\\x03\\x04'\n",
    "with open('example.bin', 'wb') as file:\n",
    "    file.write(data)"
   ]
  },
  {
   "cell_type": "code",
   "execution_count": 9,
   "metadata": {},
   "outputs": [
    {
     "name": "stdout",
     "output_type": "stream",
     "text": [
      "b'\\x00\\x01\\x02\\x03\\x04'\n"
     ]
    }
   ],
   "source": [
    "##-----------Reading a binary file-----------------------##\n",
    "with open('example.bin', 'rb') as file:\n",
    "    content = file.read()\n",
    "    print(content)"
   ]
  },
  {
   "cell_type": "code",
   "execution_count": 10,
   "metadata": {},
   "outputs": [],
   "source": [
    "##-------Read content from source text file and write it too a destinatioon text file-------##\n",
    "with open('example.txt', 'r') as source_file:\n",
    "    content = source_file.read()\n",
    "\n",
    "with open('destination.txt', 'w') as destination_file:\n",
    "    destination_file.write(content)"
   ]
  },
  {
   "cell_type": "code",
   "execution_count": 12,
   "metadata": {},
   "outputs": [
    {
     "name": "stdout",
     "output_type": "stream",
     "text": [
      "7\n",
      "128\n"
     ]
    }
   ],
   "source": [
    "##------------Read a text file and count the number of lines, words, and  characters--------##\n",
    "line_count = 0\n",
    "word_count = 0\n",
    "with open('example.txt', 'r') as file:\n",
    "    for line in file:\n",
    "        line_count += 1\n",
    "        for word in line:\n",
    "            word_count += 1\n",
    "print(line_count)\n",
    "print(word_count)\n"
   ]
  },
  {
   "cell_type": "code",
   "execution_count": 13,
   "metadata": {},
   "outputs": [
    {
     "name": "stdout",
     "output_type": "stream",
     "text": [
      "Lines: 7, Words: 19, Characters: 128\n"
     ]
    }
   ],
   "source": [
    "##------------Read a text file and count the number of lines, words, and  characters--------##\n",
    "# count lines, words, and characters\n",
    "\n",
    "def count_text_file(file_path):\n",
    "    with open(file_path, 'r') as file:\n",
    "        lines = file.readlines()\n",
    "        line_count = len(lines)\n",
    "        word_count = sum(len(line.split()) for line in lines)\n",
    "        char_count = sum(len(line) for line in lines)\n",
    "    return line_count, word_count, char_count\n",
    "\n",
    "file_path = 'example.txt'\n",
    "lines, words, characters = count_text_file(file_path)\n",
    "print(f'Lines: {lines}, Words: {words}, Characters: {characters}')"
   ]
  },
  {
   "cell_type": "code",
   "execution_count": 14,
   "metadata": {},
   "outputs": [
    {
     "name": "stdout",
     "output_type": "stream",
     "text": [
      "Hey Genius\n",
      "Work Harder\n"
     ]
    }
   ],
   "source": [
    "###-----------Writing and Reading a File-----------------###\n",
    "# w+ mode is used to write and read a file\n",
    "# creates a file if it doesnt exist\n",
    "with open('example.txt', 'w+') as file:\n",
    "    file.write(\"Hey Genius\\n\")\n",
    "    file.write(\"Work Harder\")\n",
    "\n",
    "    ## move the file cursor\n",
    "    ## to the beginning\n",
    "    file.seek(0)\n",
    "\n",
    "    ## Read the content of the file\n",
    "    content = file.read()\n",
    "    print(content)"
   ]
  },
  {
   "cell_type": "code",
   "execution_count": null,
   "metadata": {},
   "outputs": [],
   "source": []
  }
 ],
 "metadata": {
  "kernelspec": {
   "display_name": "Python 3",
   "language": "python",
   "name": "python3"
  },
  "language_info": {
   "codemirror_mode": {
    "name": "ipython",
    "version": 3
   },
   "file_extension": ".py",
   "mimetype": "text/x-python",
   "name": "python",
   "nbconvert_exporter": "python",
   "pygments_lexer": "ipython3",
   "version": "3.11.0"
  }
 },
 "nbformat": 4,
 "nbformat_minor": 2
}
