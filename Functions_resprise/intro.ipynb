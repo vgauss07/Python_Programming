{
 "cells": [
  {
   "cell_type": "code",
   "execution_count": null,
   "metadata": {},
   "outputs": [],
   "source": [
    "## Syntax\n",
    "def function_name(parameters):\n",
    "    \"\"\"\n",
    "    Docstring\n",
    "    \"\"\"\n",
    "    # Function body\n",
    "    return expression"
   ]
  },
  {
   "cell_type": "code",
   "execution_count": 6,
   "metadata": {},
   "outputs": [
    {
     "name": "stdout",
     "output_type": "stream",
     "text": [
      "9 is an ODD Number\n"
     ]
    }
   ],
   "source": [
    "## FUNCTION TO CHECK WHETHER A VALUE IS NUMBER IS ODD OR EVEN\n",
    "def check_value(number):\n",
    "    \"\"\"\n",
    "    function checks whether a number is odd or even\n",
    "    parameter:\n",
    "        input: numerical value (datatype: int)\n",
    "        output: number is odd or even (datatype: string)\n",
    "    \"\"\"\n",
    "    if number > 0:\n",
    "        if number % 2 == 0:\n",
    "            print(f\"{number} is EVEN Number!\")\n",
    "        else:\n",
    "            print(f\"{number} is an ODD Number\")\n",
    "    else:\n",
    "        print(\"Invalid number: zero or a negative number\")\n",
    "\n",
    "check_value(9)"
   ]
  },
  {
   "cell_type": "code",
   "execution_count": 7,
   "metadata": {},
   "outputs": [
    {
     "name": "stdout",
     "output_type": "stream",
     "text": [
      "Hello Jeff. welcome\n"
     ]
    }
   ],
   "source": [
    "def greet(name):\n",
    "    print(f\"Hello {name}. welcome\")\n",
    "\n",
    "greet(\"Jeff\")"
   ]
  },
  {
   "cell_type": "code",
   "execution_count": 9,
   "metadata": {},
   "outputs": [
    {
     "name": "stdout",
     "output_type": "stream",
     "text": [
      "Hello Jeff. welcome\n"
     ]
    }
   ],
   "source": [
    "def greet(name=\"Gauss\"):\n",
    "    print(f'Hello {name}. welcome')\n",
    "\n",
    "greet(\"Jeff\")"
   ]
  },
  {
   "cell_type": "code",
   "execution_count": 11,
   "metadata": {},
   "outputs": [
    {
     "name": "stdout",
     "output_type": "stream",
     "text": [
      "1\n",
      "2\n",
      "3\n",
      "4\n",
      "5\n",
      "6\n",
      "Krish\n"
     ]
    }
   ],
   "source": [
    "def print_numbers(*krish):\n",
    "    for number in krish:\n",
    "        print(number)\n",
    "\n",
    "print_numbers(1, 2, 3, 4, 5, 6, \"Krish\")"
   ]
  },
  {
   "cell_type": "code",
   "execution_count": 12,
   "metadata": {},
   "outputs": [],
   "source": [
    "## Positional Arguments\n",
    "def print_numbers(*args):\n",
    "    for number in args:\n",
    "        print(number)"
   ]
  },
  {
   "cell_type": "code",
   "execution_count": 13,
   "metadata": {},
   "outputs": [
    {
     "name": "stdout",
     "output_type": "stream",
     "text": [
      "1\n",
      "2\n",
      "3\n",
      "4\n",
      "5\n",
      "6\n",
      "7\n",
      "God\n"
     ]
    }
   ],
   "source": [
    "print_numbers(1, 2, 3, 4, 5, 6, 7, \"God\")"
   ]
  },
  {
   "cell_type": "code",
   "execution_count": 14,
   "metadata": {},
   "outputs": [],
   "source": [
    "## Keyword Arguments\n",
    "def print_details(**kwargs):\n",
    "    for key,value in kwargs.items():\n",
    "        print(f\"{key}:{value}\")"
   ]
  },
  {
   "cell_type": "code",
   "execution_count": 15,
   "metadata": {},
   "outputs": [
    {
     "name": "stdout",
     "output_type": "stream",
     "text": [
      "name:Jeff\n",
      "age:32\n"
     ]
    }
   ],
   "source": [
    "print_details(name=\"Jeff\", age=32)"
   ]
  },
  {
   "cell_type": "code",
   "execution_count": 16,
   "metadata": {},
   "outputs": [],
   "source": [
    "def print_details(*args, **kwargs):\n",
    "    for val in args:\n",
    "        print(f\"Positional Argument: {val}\")\n",
    "    for key, value in kwargs.items():\n",
    "        print(f\"{key}:{value}\")"
   ]
  },
  {
   "cell_type": "code",
   "execution_count": 18,
   "metadata": {},
   "outputs": [
    {
     "name": "stdout",
     "output_type": "stream",
     "text": [
      "Positional Argument: 1\n",
      "Positional Argument: 2\n",
      "Positional Argument: 3\n",
      "Positional Argument: 4\n",
      "Positional Argument: 5\n",
      "name:Jeff\n",
      "age:32\n"
     ]
    }
   ],
   "source": [
    "print_details(1, 2, 3, 4, 5, name=\"Jeff\", age=\"32\")"
   ]
  },
  {
   "cell_type": "code",
   "execution_count": 19,
   "metadata": {},
   "outputs": [
    {
     "data": {
      "text/plain": [
       "(6, 2)"
      ]
     },
     "execution_count": 19,
     "metadata": {},
     "output_type": "execute_result"
    }
   ],
   "source": [
    "## Return multiple parameters\n",
    "def multiply(a, b):\n",
    "    return a*b, a\n",
    "\n",
    "multiply(2, 3)"
   ]
  },
  {
   "cell_type": "markdown",
   "metadata": {},
   "source": [
    "#### Examples"
   ]
  },
  {
   "cell_type": "code",
   "execution_count": 20,
   "metadata": {},
   "outputs": [
    {
     "data": {
      "text/plain": [
       "77.0"
      ]
     },
     "execution_count": 20,
     "metadata": {},
     "output_type": "execute_result"
    }
   ],
   "source": [
    "## Temperature Conversion\n",
    "def convert_temperature(temp, unit):\n",
    "    \"\"\"This function converts between units Celsius and Fahrenheit\"\"\"\n",
    "    if unit == \"C\":\n",
    "        return temp * 9/5 + 32 ## C to F\n",
    "    elif unit == \"F\":\n",
    "        return (temp - 32) * 5/9 ## F to C\n",
    "    else:\n",
    "        return None\n",
    "    \n",
    "convert_temperature(25, \"C\")"
   ]
  },
  {
   "cell_type": "code",
   "execution_count": 21,
   "metadata": {},
   "outputs": [
    {
     "name": "stdout",
     "output_type": "stream",
     "text": [
      "True\n",
      "False\n"
     ]
    }
   ],
   "source": [
    "## Password Strength Checker\n",
    "def is_strong_password(password):\n",
    "    \"\"\" this function checks if the  password is strong or not\"\"\"\n",
    "    if len(password) < 10:\n",
    "        return False\n",
    "    if not any(char.isdigit() for char in password):\n",
    "        return False\n",
    "    if not any(char.islower() for char in password):\n",
    "        return False\n",
    "    if not any(char.isupper() for char in password):\n",
    "        return False\n",
    "    if not any(char in '!@#$%^&*()_-+=||' for char in password):\n",
    "        return False\n",
    "    return True\n",
    "print(is_strong_password(\"Strongpassword234#@\"))\n",
    "print(is_strong_password(\"abcde\"))"
   ]
  },
  {
   "cell_type": "code",
   "execution_count": 22,
   "metadata": {},
   "outputs": [
    {
     "name": "stdout",
     "output_type": "stream",
     "text": [
      "16650\n"
     ]
    }
   ],
   "source": [
    "## calculate the total cost of items in a shopping cart\n",
    "def calculate_total_cost(cart):\n",
    "    total_cost = 0\n",
    "    for item in cart:\n",
    "        total_cost+=item['price']*item['quantity']\n",
    "    return total_cost\n",
    "\n",
    "## Example cart\n",
    "cart = [\n",
    "    {'name': 'Laptop', 'price': 3000, 'quantity': 5},\n",
    "    {'name': 'Bag of rice', 'price': 300, 'quantity': 5},\n",
    "    {'name': 'Crate of eggs', 'price': 50, 'quantity': 3}\n",
    "]\n",
    "\n",
    "total_cost = calculate_total_cost(cart)\n",
    "print(total_cost)"
   ]
  },
  {
   "cell_type": "code",
   "execution_count": 27,
   "metadata": {},
   "outputs": [
    {
     "name": "stdout",
     "output_type": "stream",
     "text": [
      "True\n"
     ]
    }
   ],
   "source": [
    "## Check if a string is palindrome\n",
    "def is_palindrome(s):\n",
    "    s = s.lower().replace(\" \", \"\")\n",
    "    return s == s[::-1]\n",
    "print(is_palindrome(\"Ada\"))"
   ]
  },
  {
   "cell_type": "code",
   "execution_count": 30,
   "metadata": {},
   "outputs": [
    {
     "name": "stdout",
     "output_type": "stream",
     "text": [
      "6\n"
     ]
    }
   ],
   "source": [
    "## Calculate Factorials of a number\n",
    "def factorial(number):\n",
    "    if number == 0:\n",
    "        return 1\n",
    "    else:\n",
    "        return number * factorial(number - 1)\n",
    "print(factorial(3))"
   ]
  },
  {
   "cell_type": "code",
   "execution_count": 31,
   "metadata": {},
   "outputs": [
    {
     "name": "stdout",
     "output_type": "stream",
     "text": [
      "False\n",
      "True\n"
     ]
    }
   ],
   "source": [
    "## valid email address\n",
    "import re\n",
    "def is_valid_email(email):\n",
    "    \"\"\"This function checks if the email is valid\"\"\"\n",
    "    pattern = r'^[a-zA-Z0-9_.+-]+@[a-zA-Z0-9-]+\\.[a-zA-Z0-9-.]+$'\n",
    "    return re.match(pattern, email) is not None\n",
    "\n",
    "print(is_valid_email(\"invalid-email\"))\n",
    "print(is_valid_email('vgauss23@gmail.com'))"
   ]
  },
  {
   "cell_type": "code",
   "execution_count": null,
   "metadata": {},
   "outputs": [],
   "source": []
  }
 ],
 "metadata": {
  "kernelspec": {
   "display_name": "Python 3",
   "language": "python",
   "name": "python3"
  },
  "language_info": {
   "codemirror_mode": {
    "name": "ipython",
    "version": 3
   },
   "file_extension": ".py",
   "mimetype": "text/x-python",
   "name": "python",
   "nbconvert_exporter": "python",
   "pygments_lexer": "ipython3",
   "version": "3.11.0"
  }
 },
 "nbformat": 4,
 "nbformat_minor": 2
}
