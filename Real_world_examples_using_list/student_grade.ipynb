{
 "cells": [
  {
   "cell_type": "markdown",
   "metadata": {},
   "source": [
    "#### Organizing Student Grades\n",
    "\n",
    "Create a list to store and calculate average grades for students"
   ]
  },
  {
   "cell_type": "code",
   "execution_count": 5,
   "metadata": {},
   "outputs": [
    {
     "name": "stdout",
     "output_type": "stream",
     "text": [
      "Average Grade: 92.86\n",
      "Highest Grade: 98\n",
      "Lowest Grade: 85\n",
      "Most Frequent Score: 98\n"
     ]
    }
   ],
   "source": [
    "## prganizing student grades\n",
    "grades = [90, 98, 95, 98, 93, 91]\n",
    "\n",
    "# Adding a new grade\n",
    "grades.append(85)\n",
    "\n",
    "# calculating the average grade\n",
    "average_grade = sum(grades)/len(grades)\n",
    "print(f'Average Grade: {average_grade:.2f}')\n",
    "\n",
    "# find highest and lowest grade\n",
    "highest_grade = max(grades)\n",
    "lowest_grade = min(grades)\n",
    "\n",
    "print(f'Highest Grade: {highest_grade}')\n",
    "print(f'Lowest Grade: {lowest_grade}')\n",
    "\n",
    "# Most frequent scores\n",
    "from statistics import mode\n",
    "\n",
    "fre_score = mode(grades)\n",
    "print(f'Most Frequent Score: {fre_score}')"
   ]
  },
  {
   "cell_type": "code",
   "execution_count": null,
   "metadata": {},
   "outputs": [],
   "source": []
  }
 ],
 "metadata": {
  "kernelspec": {
   "display_name": "Python 3",
   "language": "python",
   "name": "python3"
  },
  "language_info": {
   "codemirror_mode": {
    "name": "ipython",
    "version": 3
   },
   "file_extension": ".py",
   "mimetype": "text/x-python",
   "name": "python",
   "nbconvert_exporter": "python",
   "pygments_lexer": "ipython3",
   "version": "3.11.0"
  }
 },
 "nbformat": 4,
 "nbformat_minor": 2
}
