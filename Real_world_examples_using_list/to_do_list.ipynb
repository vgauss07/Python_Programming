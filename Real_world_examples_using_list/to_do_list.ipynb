{
 "cells": [
  {
   "cell_type": "markdown",
   "metadata": {},
   "source": [
    "#### Manage a TO-DO List"
   ]
  },
  {
   "cell_type": "markdown",
   "metadata": {},
   "source": [
    "#### Create a list to keep track of tasks"
   ]
  },
  {
   "cell_type": "code",
   "execution_count": 2,
   "metadata": {},
   "outputs": [
    {
     "name": "stdout",
     "output_type": "stream",
     "text": [
      "Don't forget to hug your wife\n",
      "Remaining To Do List: \n",
      "- study bible\n",
      "- hug wife\n",
      "- play piano\n",
      "- read a book\n",
      "- call designer\n"
     ]
    }
   ],
   "source": [
    "to_do_list = ['study bible', 'hug wife', 'write codes', 'play piano']\n",
    "\n",
    "## Adding to the task\n",
    "to_do_list.append(\"read a book\")\n",
    "to_do_list.append(\"call designer\")\n",
    "\n",
    "## Removing a completed task\n",
    "to_do_list.remove('write codes')\n",
    "\n",
    "## checking if a task is in the list\n",
    "if \"hug wife\" in to_do_list:\n",
    "    print(\"Don't forget to hug your wife\")\n",
    "\n",
    "print(\"Remaining To Do List: \")\n",
    "for task in to_do_list:\n",
    "    print(f\"- {task}\")"
   ]
  },
  {
   "cell_type": "markdown",
   "metadata": {},
   "source": []
  }
 ],
 "metadata": {
  "kernelspec": {
   "display_name": "Python 3",
   "language": "python",
   "name": "python3"
  },
  "language_info": {
   "codemirror_mode": {
    "name": "ipython",
    "version": 3
   },
   "file_extension": ".py",
   "mimetype": "text/x-python",
   "name": "python",
   "nbconvert_exporter": "python",
   "pygments_lexer": "ipython3",
   "version": "3.11.0"
  }
 },
 "nbformat": 4,
 "nbformat_minor": 2
}
