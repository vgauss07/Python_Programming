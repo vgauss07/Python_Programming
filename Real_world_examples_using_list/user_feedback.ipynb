{
 "cells": [
  {
   "cell_type": "markdown",
   "metadata": {},
   "source": [
    "#### Collecting User Feedback"
   ]
  },
  {
   "cell_type": "code",
   "execution_count": 2,
   "metadata": {},
   "outputs": [
    {
     "name": "stdout",
     "output_type": "stream",
     "text": [
      "Positive Feedback: 2\n",
      "- great service\n",
      "- satisfied\n",
      "- excellent experience\n",
      "- awful\n",
      "- terrible\n"
     ]
    }
   ],
   "source": [
    "## collecting feedback\n",
    "feedback = ['great service', 'satisfied', 'excellent experience', 'awful']\n",
    "\n",
    "feedback.append(\"terrible\")\n",
    "\n",
    "## counting specific feedback\n",
    "positive_feedback_count = sum(1 for comment in feedback if 'great' in comment.lower() or 'excellent' in comment.lower())\n",
    "print(f'Positive Feedback: {positive_feedback_count}')\n",
    "\n",
    "for comment in feedback:\n",
    "    print(f'- {comment}')"
   ]
  },
  {
   "cell_type": "code",
   "execution_count": null,
   "metadata": {},
   "outputs": [],
   "source": []
  }
 ],
 "metadata": {
  "kernelspec": {
   "display_name": "Python 3",
   "language": "python",
   "name": "python3"
  },
  "language_info": {
   "codemirror_mode": {
    "name": "ipython",
    "version": 3
   },
   "file_extension": ".py",
   "mimetype": "text/x-python",
   "name": "python",
   "nbconvert_exporter": "python",
   "pygments_lexer": "ipython3",
   "version": "3.11.0"
  }
 },
 "nbformat": 4,
 "nbformat_minor": 2
}
