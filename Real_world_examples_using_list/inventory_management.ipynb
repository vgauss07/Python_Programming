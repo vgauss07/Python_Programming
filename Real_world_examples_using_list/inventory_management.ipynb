{
 "cells": [
  {
   "cell_type": "markdown",
   "metadata": {},
   "source": [
    "#### Managing Inventory\n"
   ]
  },
  {
   "cell_type": "code",
   "execution_count": 3,
   "metadata": {},
   "outputs": [
    {
     "name": "stdout",
     "output_type": "stream",
     "text": [
      "strawberry not in stock\n",
      "['apples', 'oranges', 'grapes', 'pear']\n"
     ]
    }
   ],
   "source": [
    "inventory = [\"apples\", \"bananas\", \"oranges\", \"grapes\"]\n",
    "\n",
    "## adding a new item\n",
    "inventory.append(\"pear\")\n",
    "\n",
    "## removing an item out of stock\n",
    "inventory.remove(\"bananas\")\n",
    "\n",
    "# check if an item is in stock\n",
    "item = \"strawberry\"\n",
    "if item in inventory:\n",
    "    print(f\"{item} is in stock\")\n",
    "else:\n",
    "    print(f'{item} not in stock')\n",
    "\n",
    "print(inventory)"
   ]
  },
  {
   "cell_type": "code",
   "execution_count": null,
   "metadata": {},
   "outputs": [],
   "source": []
  }
 ],
 "metadata": {
  "kernelspec": {
   "display_name": "Python 3",
   "language": "python",
   "name": "python3"
  },
  "language_info": {
   "codemirror_mode": {
    "name": "ipython",
    "version": 3
   },
   "file_extension": ".py",
   "mimetype": "text/x-python",
   "name": "python",
   "nbconvert_exporter": "python",
   "pygments_lexer": "ipython3",
   "version": "3.11.0"
  }
 },
 "nbformat": 4,
 "nbformat_minor": 2
}
